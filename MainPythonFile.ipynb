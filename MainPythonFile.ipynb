{
 "cells": [
  {
   "cell_type": "code",
   "execution_count": 1,
   "metadata": {},
   "outputs": [],
   "source": [
    "import numpy as np\n",
    "import pandas as pd\n",
    "\n",
    "#Loading the companies and rounds2 files in respective dataframes\n",
    "companies = pd.read_csv(r\"./Investment Assignment/companies.txt\", sep ='\\t', engine = 'python')\n",
    "rounds2 = pd.read_csv(r\"./Investment Assignment/rounds2.csv\", sep =',', engine = 'python')\n",
    "mapping = pd.read_csv(r\"./Investment Assignment/mapping.csv\", sep =',', engine = 'python')"
   ]
  },
  {
   "cell_type": "code",
   "execution_count": 2,
   "metadata": {},
   "outputs": [
    {
     "data": {
      "text/plain": [
       "66368"
      ]
     },
     "execution_count": 2,
     "metadata": {},
     "output_type": "execute_result"
    }
   ],
   "source": [
    "#Number of Unique Company names in rounds2 dataframe\n",
    "rounds2['company_permalink']=rounds2['company_permalink'].str.upper()\n",
    "rounds2.company_permalink.nunique()"
   ]
  },
  {
   "cell_type": "code",
   "execution_count": 3,
   "metadata": {},
   "outputs": [
    {
     "data": {
      "text/plain": [
       "66368"
      ]
     },
     "execution_count": 3,
     "metadata": {},
     "output_type": "execute_result"
    }
   ],
   "source": [
    "#Number of Unique Company names in companies dataframe\n",
    "companies['permalink']=companies['permalink'].str.upper()\n",
    "companies.permalink.nunique()"
   ]
  },
  {
   "cell_type": "code",
   "execution_count": 4,
   "metadata": {},
   "outputs": [
    {
     "data": {
      "text/html": [
       "<div>\n",
       "<style scoped>\n",
       "    .dataframe tbody tr th:only-of-type {\n",
       "        vertical-align: middle;\n",
       "    }\n",
       "\n",
       "    .dataframe tbody tr th {\n",
       "        vertical-align: top;\n",
       "    }\n",
       "\n",
       "    .dataframe thead th {\n",
       "        text-align: right;\n",
       "    }\n",
       "</style>\n",
       "<table border=\"1\" class=\"dataframe\">\n",
       "  <thead>\n",
       "    <tr style=\"text-align: right;\">\n",
       "      <th></th>\n",
       "      <th>permalink</th>\n",
       "      <th>name</th>\n",
       "      <th>homepage_url</th>\n",
       "      <th>category_list</th>\n",
       "      <th>status</th>\n",
       "      <th>country_code</th>\n",
       "      <th>state_code</th>\n",
       "      <th>region</th>\n",
       "      <th>city</th>\n",
       "      <th>founded_at</th>\n",
       "    </tr>\n",
       "  </thead>\n",
       "  <tbody>\n",
       "    <tr>\n",
       "      <th>count</th>\n",
       "      <td>66368</td>\n",
       "      <td>66367</td>\n",
       "      <td>61310</td>\n",
       "      <td>63220</td>\n",
       "      <td>66368</td>\n",
       "      <td>59410</td>\n",
       "      <td>57821</td>\n",
       "      <td>58338</td>\n",
       "      <td>58340</td>\n",
       "      <td>51147</td>\n",
       "    </tr>\n",
       "    <tr>\n",
       "      <th>unique</th>\n",
       "      <td>66368</td>\n",
       "      <td>66102</td>\n",
       "      <td>61191</td>\n",
       "      <td>27296</td>\n",
       "      <td>4</td>\n",
       "      <td>137</td>\n",
       "      <td>311</td>\n",
       "      <td>1092</td>\n",
       "      <td>5111</td>\n",
       "      <td>3978</td>\n",
       "    </tr>\n",
       "    <tr>\n",
       "      <th>top</th>\n",
       "      <td>/ORGANIZATION/HIPSTER</td>\n",
       "      <td>Blink</td>\n",
       "      <td>http://www.askforoffer.com</td>\n",
       "      <td>Software</td>\n",
       "      <td>operating</td>\n",
       "      <td>USA</td>\n",
       "      <td>CA</td>\n",
       "      <td>SF Bay Area</td>\n",
       "      <td>San Francisco</td>\n",
       "      <td>01-01-2012</td>\n",
       "    </tr>\n",
       "    <tr>\n",
       "      <th>freq</th>\n",
       "      <td>1</td>\n",
       "      <td>4</td>\n",
       "      <td>5</td>\n",
       "      <td>3995</td>\n",
       "      <td>53034</td>\n",
       "      <td>37601</td>\n",
       "      <td>12900</td>\n",
       "      <td>8804</td>\n",
       "      <td>3526</td>\n",
       "      <td>2730</td>\n",
       "    </tr>\n",
       "  </tbody>\n",
       "</table>\n",
       "</div>"
      ],
      "text/plain": [
       "                    permalink   name                homepage_url  \\\n",
       "count                   66368  66367                       61310   \n",
       "unique                  66368  66102                       61191   \n",
       "top     /ORGANIZATION/HIPSTER  Blink  http://www.askforoffer.com   \n",
       "freq                        1      4                           5   \n",
       "\n",
       "       category_list     status country_code state_code       region  \\\n",
       "count          63220      66368        59410      57821        58338   \n",
       "unique         27296          4          137        311         1092   \n",
       "top         Software  operating          USA         CA  SF Bay Area   \n",
       "freq            3995      53034        37601      12900         8804   \n",
       "\n",
       "                 city  founded_at  \n",
       "count           58340       51147  \n",
       "unique           5111        3978  \n",
       "top     San Francisco  01-01-2012  \n",
       "freq             3526        2730  "
      ]
     },
     "execution_count": 4,
     "metadata": {},
     "output_type": "execute_result"
    }
   ],
   "source": [
    "#Finding the column which can be used as a unique key for each company in the the companies df\n",
    "companies.describe()\n",
    "#We see that the only unique key is 'permalink' as its frequency is 1, also the count and unique values for 'permalink' are same."
   ]
  },
  {
   "cell_type": "code",
   "execution_count": 5,
   "metadata": {},
   "outputs": [
    {
     "data": {
      "text/plain": [
       "True    114949\n",
       "Name: company_permalink, dtype: int64"
      ]
     },
     "execution_count": 5,
     "metadata": {},
     "output_type": "execute_result"
    }
   ],
   "source": [
    "#Checking for any companies in the rounds2 file which are not  present in companies\n",
    "rounds2['company_permalink'].isin(companies['permalink']).value_counts()\n",
    "#There are no False values in the output meaning all companies in rounds2 file are there in companies file."
   ]
  },
  {
   "cell_type": "code",
   "execution_count": 6,
   "metadata": {},
   "outputs": [
    {
     "data": {
      "text/plain": [
       "company_permalink          114949\n",
       "funding_round_permalink    114949\n",
       "funding_round_type         114949\n",
       "funding_round_code          31140\n",
       "funded_at                  114949\n",
       "raised_amount_usd           94959\n",
       "permalink                  114949\n",
       "name                       114948\n",
       "homepage_url               108815\n",
       "category_list              111539\n",
       "status                     114949\n",
       "country_code               106271\n",
       "state_code                 104003\n",
       "region                     104782\n",
       "city                       104785\n",
       "founded_at                  94428\n",
       "dtype: int64"
      ]
     },
     "execution_count": 6,
     "metadata": {},
     "output_type": "execute_result"
    }
   ],
   "source": [
    "#Merge the two data frames so that all variables (columns) in the companies frame are added to the rounds2 data frame. Name the merged frame master_frame. How many observations are present in master_frame?\n",
    "master_frame = pd.merge(rounds2, companies, how='inner', left_on='company_permalink', right_on = 'permalink' )\n",
    "master_frame.count()"
   ]
  },
  {
   "cell_type": "code",
   "execution_count": 7,
   "metadata": {},
   "outputs": [
    {
     "data": {
      "text/plain": [
       "0"
      ]
     },
     "execution_count": 7,
     "metadata": {},
     "output_type": "execute_result"
    }
   ],
   "source": [
    "# identifying rows having all missing values\n",
    "master_frame.isnull().all(axis=1).sum()"
   ]
  },
  {
   "cell_type": "code",
   "execution_count": 8,
   "metadata": {},
   "outputs": [
    {
     "data": {
      "text/plain": [
       "company_permalink          False\n",
       "funding_round_permalink    False\n",
       "funding_round_type         False\n",
       "funding_round_code          True\n",
       "funded_at                  False\n",
       "raised_amount_usd           True\n",
       "permalink                  False\n",
       "name                        True\n",
       "homepage_url                True\n",
       "category_list               True\n",
       "status                     False\n",
       "country_code                True\n",
       "state_code                  True\n",
       "region                      True\n",
       "city                        True\n",
       "founded_at                  True\n",
       "dtype: bool"
      ]
     },
     "execution_count": 8,
     "metadata": {},
     "output_type": "execute_result"
    }
   ],
   "source": [
    "#Checking for missing values in columns\n",
    "master_frame.isnull().any(axis=0)\n"
   ]
  },
  {
   "cell_type": "code",
   "execution_count": 9,
   "metadata": {},
   "outputs": [
    {
     "data": {
      "text/plain": [
       "company_permalink           0.00\n",
       "funding_round_permalink     0.00\n",
       "funding_round_type          0.00\n",
       "funding_round_code         72.91\n",
       "funded_at                   0.00\n",
       "raised_amount_usd          17.39\n",
       "permalink                   0.00\n",
       "name                        0.00\n",
       "homepage_url                5.34\n",
       "category_list               2.97\n",
       "status                      0.00\n",
       "country_code                7.55\n",
       "state_code                  9.52\n",
       "region                      8.84\n",
       "city                        8.84\n",
       "founded_at                 17.85\n",
       "dtype: float64"
      ]
     },
     "execution_count": 9,
     "metadata": {},
     "output_type": "execute_result"
    }
   ],
   "source": [
    "# Finding missing values percentage (column-wise)\n",
    "round(100*(master_frame.isnull().sum()/len(master_frame.index)), 2)"
   ]
  },
  {
   "cell_type": "code",
   "execution_count": 10,
   "metadata": {},
   "outputs": [],
   "source": [
    "#since there is more than 70% data missing in column funding_round_code dropping this column as it will not be useful anyways\n",
    "master_frame=master_frame.drop('funding_round_code',axis=1)\n",
    "#Also, we do not need founded_at information\n",
    "master_frame=master_frame.drop('founded_at',axis=1)"
   ]
  },
  {
   "cell_type": "code",
   "execution_count": 11,
   "metadata": {},
   "outputs": [
    {
     "data": {
      "text/plain": [
       "array(['venture', 'seed', 'undisclosed', 'equity_crowdfunding',\n",
       "       'convertible_note', 'private_equity', 'debt_financing', 'angel',\n",
       "       'grant', 'secondary_market', 'post_ipo_equity', 'post_ipo_debt',\n",
       "       'product_crowdfunding', 'non_equity_assistance'], dtype=object)"
      ]
     },
     "execution_count": 11,
     "metadata": {},
     "output_type": "execute_result"
    }
   ],
   "source": [
    "#Finding different investment types\n",
    "master_frame.funding_round_type.unique()"
   ]
  },
  {
   "cell_type": "code",
   "execution_count": 12,
   "metadata": {},
   "outputs": [],
   "source": [
    "#Since Spark Funds wants to choose one of these four investment types - seed, venture, angel,Private equity, we do not need other types, so removing those corresponding rows.\n",
    "master_frame = master_frame[master_frame['funding_round_type'].isin(['venture','seed','angel','private_equity'])]"
   ]
  },
  {
   "cell_type": "code",
   "execution_count": 13,
   "metadata": {},
   "outputs": [
    {
     "data": {
      "text/plain": [
       "company_permalink           0.00\n",
       "funding_round_permalink     0.00\n",
       "funding_round_type          0.00\n",
       "funded_at                   0.00\n",
       "raised_amount_usd          14.59\n",
       "permalink                   0.00\n",
       "name                        0.00\n",
       "homepage_url                4.39\n",
       "category_list               2.65\n",
       "status                      0.00\n",
       "country_code                7.76\n",
       "state_code                  9.83\n",
       "region                      9.07\n",
       "city                        9.06\n",
       "dtype: float64"
      ]
     },
     "execution_count": 13,
     "metadata": {},
     "output_type": "execute_result"
    }
   ],
   "source": [
    "round(100*(master_frame.isnull().sum()/len(master_frame.index)), 2)"
   ]
  },
  {
   "cell_type": "code",
   "execution_count": 14,
   "metadata": {},
   "outputs": [
    {
     "data": {
      "text/plain": [
       "company_permalink          80627\n",
       "funding_round_permalink    80627\n",
       "funding_round_type         80627\n",
       "funded_at                  80627\n",
       "raised_amount_usd          80627\n",
       "permalink                  80627\n",
       "name                       80626\n",
       "homepage_url               77182\n",
       "category_list              79772\n",
       "status                     80627\n",
       "country_code               75606\n",
       "state_code                 74055\n",
       "region                     74564\n",
       "city                       74567\n",
       "dtype: int64"
      ]
     },
     "execution_count": 14,
     "metadata": {},
     "output_type": "execute_result"
    }
   ],
   "source": [
    "# Since raised_amount_usd still contains a lot of missing data (and imputing 14.59% values will introduce heavy bias), removing the missing rows where raised_amount_usd is null.\n",
    "master_frame = master_frame[~np.isnan(master_frame['raised_amount_usd'])]\n",
    "master_frame.count()"
   ]
  },
  {
   "cell_type": "code",
   "execution_count": 15,
   "metadata": {},
   "outputs": [
    {
     "data": {
      "text/plain": [
       "company_permalink          0.00\n",
       "funding_round_permalink    0.00\n",
       "funding_round_type         0.00\n",
       "funded_at                  0.00\n",
       "raised_amount_usd          0.00\n",
       "permalink                  0.00\n",
       "name                       0.00\n",
       "homepage_url               4.27\n",
       "category_list              1.06\n",
       "status                     0.00\n",
       "country_code               6.23\n",
       "state_code                 8.15\n",
       "region                     7.52\n",
       "city                       7.52\n",
       "dtype: float64"
      ]
     },
     "execution_count": 15,
     "metadata": {},
     "output_type": "execute_result"
    }
   ],
   "source": [
    "round(100*(master_frame.isnull().sum()/len(master_frame.index)), 2)"
   ]
  },
  {
   "cell_type": "code",
   "execution_count": 16,
   "metadata": {},
   "outputs": [],
   "source": [
    "#Imputing values in column homepage_url, since it is not required for analysis but may be useful\n",
    "master_frame.loc[pd.isnull(master_frame['homepage_url']), ['homepage_url']] = 'URL Not Available'\n"
   ]
  },
  {
   "cell_type": "code",
   "execution_count": 17,
   "metadata": {},
   "outputs": [
    {
     "data": {
      "text/plain": [
       "company_permalink          0.00\n",
       "funding_round_permalink    0.00\n",
       "funding_round_type         0.00\n",
       "funded_at                  0.00\n",
       "raised_amount_usd          0.00\n",
       "permalink                  0.00\n",
       "name                       0.00\n",
       "homepage_url               0.00\n",
       "category_list              1.06\n",
       "status                     0.00\n",
       "country_code               6.23\n",
       "state_code                 8.15\n",
       "region                     7.52\n",
       "city                       7.52\n",
       "dtype: float64"
      ]
     },
     "execution_count": 17,
     "metadata": {},
     "output_type": "execute_result"
    }
   ],
   "source": [
    "round(100*(master_frame.isnull().sum()/len(master_frame.index)), 2)"
   ]
  },
  {
   "cell_type": "code",
   "execution_count": 18,
   "metadata": {},
   "outputs": [
    {
     "data": {
      "text/plain": [
       "373"
      ]
     },
     "execution_count": 18,
     "metadata": {},
     "output_type": "execute_result"
    }
   ],
   "source": [
    "#Checking for rows that have 5 or more null values, which means it has neither category mentioned nor country or region information, and will not help us in analysis\n",
    "len(master_frame[master_frame.isnull().sum(axis=1) >= 5].index)"
   ]
  },
  {
   "cell_type": "code",
   "execution_count": 19,
   "metadata": {},
   "outputs": [],
   "source": [
    "#Retaining rows which have less than 5 NaN values\n",
    "master_frame = master_frame[master_frame.isnull().sum(axis=1) < 5]"
   ]
  },
  {
   "cell_type": "code",
   "execution_count": 20,
   "metadata": {},
   "outputs": [
    {
     "data": {
      "text/plain": [
       "company_permalink          0.00\n",
       "funding_round_permalink    0.00\n",
       "funding_round_type         0.00\n",
       "funded_at                  0.00\n",
       "raised_amount_usd          0.00\n",
       "permalink                  0.00\n",
       "name                       0.00\n",
       "homepage_url               0.00\n",
       "category_list              0.60\n",
       "status                     0.00\n",
       "country_code               5.79\n",
       "state_code                 7.72\n",
       "region                     7.09\n",
       "city                       7.09\n",
       "dtype: float64"
      ]
     },
     "execution_count": 20,
     "metadata": {},
     "output_type": "execute_result"
    }
   ],
   "source": [
    "round(100*(master_frame.isnull().sum()/len(master_frame.index)), 2)"
   ]
  },
  {
   "cell_type": "code",
   "execution_count": 21,
   "metadata": {},
   "outputs": [
    {
     "data": {
      "text/plain": [
       "4656"
      ]
     },
     "execution_count": 21,
     "metadata": {},
     "output_type": "execute_result"
    }
   ],
   "source": [
    "#Now we have only rows related to area as null. But, we still have many rows for which the 'country_code', 'state_code','region','city' columns are all null\n",
    "len(master_frame[master_frame.isnull().sum(axis=1) == 4].index)\n",
    "#removing the rows which have all 4 values as null as they will not help us with the country analysis."
   ]
  },
  {
   "cell_type": "code",
   "execution_count": 22,
   "metadata": {},
   "outputs": [],
   "source": [
    "#Retaining rows which have less than 4 NaN values\n",
    "master_frame = master_frame[master_frame.isnull().sum(axis=1) < 4]"
   ]
  },
  {
   "cell_type": "code",
   "execution_count": 23,
   "metadata": {},
   "outputs": [
    {
     "data": {
      "text/plain": [
       "True    75598\n",
       "Name: country_code, dtype: int64"
      ]
     },
     "execution_count": 23,
     "metadata": {},
     "output_type": "execute_result"
    }
   ],
   "source": [
    "master_frame['country_code'].notnull().value_counts()"
   ]
  },
  {
   "cell_type": "code",
   "execution_count": 24,
   "metadata": {},
   "outputs": [
    {
     "data": {
      "text/plain": [
       "False    73756\n",
       "True      1842\n",
       "dtype: int64"
      ]
     },
     "execution_count": 24,
     "metadata": {},
     "output_type": "execute_result"
    }
   ],
   "source": [
    "master_frame.loc[:, ['country_code', 'state_code','region','city']].isnull().any(axis=1).value_counts()"
   ]
  },
  {
   "cell_type": "code",
   "execution_count": 25,
   "metadata": {},
   "outputs": [
    {
     "data": {
      "text/plain": [
       "company_permalink          0.00\n",
       "funding_round_permalink    0.00\n",
       "funding_round_type         0.00\n",
       "funded_at                  0.00\n",
       "raised_amount_usd          0.00\n",
       "permalink                  0.00\n",
       "name                       0.00\n",
       "homepage_url               0.00\n",
       "category_list              0.63\n",
       "status                     0.00\n",
       "country_code               0.00\n",
       "state_code                 2.04\n",
       "region                     1.37\n",
       "city                       1.36\n",
       "dtype: float64"
      ]
     },
     "execution_count": 25,
     "metadata": {},
     "output_type": "execute_result"
    }
   ],
   "source": [
    "round(100*(master_frame.isnull().sum()/len(master_frame.index)), 2)"
   ]
  },
  {
   "cell_type": "code",
   "execution_count": 26,
   "metadata": {},
   "outputs": [],
   "source": [
    "#Imputing dummy values for 'state_code','region' and 'city', because we are interested in the country code which is already available\n",
    "master_frame.loc[pd.isnull(master_frame['state_code']), ['state_code']] = '0'\n",
    "master_frame.loc[pd.isnull(master_frame['region']), ['region']] = 'Not Available'\n",
    "master_frame.loc[pd.isnull(master_frame['city']), ['city']] = 'Not Available'"
   ]
  },
  {
   "cell_type": "code",
   "execution_count": 27,
   "metadata": {},
   "outputs": [
    {
     "data": {
      "text/plain": [
       "company_permalink          0.00\n",
       "funding_round_permalink    0.00\n",
       "funding_round_type         0.00\n",
       "funded_at                  0.00\n",
       "raised_amount_usd          0.00\n",
       "permalink                  0.00\n",
       "name                       0.00\n",
       "homepage_url               0.00\n",
       "category_list              0.63\n",
       "status                     0.00\n",
       "country_code               0.00\n",
       "state_code                 0.00\n",
       "region                     0.00\n",
       "city                       0.00\n",
       "dtype: float64"
      ]
     },
     "execution_count": 27,
     "metadata": {},
     "output_type": "execute_result"
    }
   ],
   "source": [
    "round(100*(master_frame.isnull().sum()/len(master_frame.index)), 2)"
   ]
  },
  {
   "cell_type": "code",
   "execution_count": 28,
   "metadata": {},
   "outputs": [
    {
     "data": {
      "text/plain": [
       "474"
      ]
     },
     "execution_count": 28,
     "metadata": {},
     "output_type": "execute_result"
    }
   ],
   "source": [
    "#We are left with only a very small percentage of missing values in category_list column\n",
    "master_frame['category_list'].isnull().sum()"
   ]
  },
  {
   "cell_type": "code",
   "execution_count": 29,
   "metadata": {},
   "outputs": [
    {
     "data": {
      "text/plain": [
       "count             75124\n",
       "unique            19758\n",
       "top       Biotechnology\n",
       "freq               6002\n",
       "Name: category_list, dtype: object"
      ]
     },
     "execution_count": 29,
     "metadata": {},
     "output_type": "execute_result"
    }
   ],
   "source": [
    "#Imputing values in column category_list with the top category, since only 0.63% values will be affected,it will not introduce heavy bias\n",
    "#Finding top Category\n",
    "master_frame['category_list'] = master_frame['category_list'].astype('category')\n",
    "master_frame['category_list'].describe()\n"
   ]
  },
  {
   "cell_type": "code",
   "execution_count": 30,
   "metadata": {},
   "outputs": [],
   "source": [
    "master_frame.loc[pd.isnull(master_frame['category_list']), ['category_list']] = 'Biotechnology'"
   ]
  },
  {
   "cell_type": "code",
   "execution_count": 31,
   "metadata": {},
   "outputs": [
    {
     "data": {
      "text/plain": [
       "company_permalink          0.0\n",
       "funding_round_permalink    0.0\n",
       "funding_round_type         0.0\n",
       "funded_at                  0.0\n",
       "raised_amount_usd          0.0\n",
       "permalink                  0.0\n",
       "name                       0.0\n",
       "homepage_url               0.0\n",
       "category_list              0.0\n",
       "status                     0.0\n",
       "country_code               0.0\n",
       "state_code                 0.0\n",
       "region                     0.0\n",
       "city                       0.0\n",
       "dtype: float64"
      ]
     },
     "execution_count": 31,
     "metadata": {},
     "output_type": "execute_result"
    }
   ],
   "source": [
    "round(100*(master_frame.isnull().sum()/len(master_frame.index)), 2)\n",
    "#Finally we have no Null values in the data."
   ]
  },
  {
   "cell_type": "code",
   "execution_count": 32,
   "metadata": {},
   "outputs": [
    {
     "name": "stdout",
     "output_type": "stream",
     "text": [
      "<class 'pandas.core.frame.DataFrame'>\n",
      "Int64Index: 75598 entries, 0 to 114947\n",
      "Data columns (total 14 columns):\n",
      "company_permalink          75598 non-null object\n",
      "funding_round_permalink    75598 non-null object\n",
      "funding_round_type         75598 non-null object\n",
      "funded_at                  75598 non-null object\n",
      "raised_amount_usd          75598 non-null float64\n",
      "permalink                  75598 non-null object\n",
      "name                       75597 non-null object\n",
      "homepage_url               75598 non-null object\n",
      "category_list              75598 non-null category\n",
      "status                     75598 non-null object\n",
      "country_code               75598 non-null object\n",
      "state_code                 75598 non-null object\n",
      "region                     75598 non-null object\n",
      "city                       75598 non-null object\n",
      "dtypes: category(1), float64(1), object(12)\n",
      "memory usage: 9.0+ MB\n"
     ]
    },
    {
     "data": {
      "text/plain": [
       "(75598, 14)"
      ]
     },
     "execution_count": 32,
     "metadata": {},
     "output_type": "execute_result"
    }
   ],
   "source": [
    "master_frame.info()\n",
    "master_frame.shape"
   ]
  },
  {
   "cell_type": "code",
   "execution_count": 33,
   "metadata": {},
   "outputs": [
    {
     "data": {
      "text/plain": [
       "0.34233442657178403"
      ]
     },
     "execution_count": 33,
     "metadata": {},
     "output_type": "execute_result"
    }
   ],
   "source": [
    "#Fraction of rows lost\n",
    "(114949-len(master_frame.index))/114949\n",
    "#We have lost 34% observations in cleaning the missing values. "
   ]
  },
  {
   "cell_type": "code",
   "execution_count": 34,
   "metadata": {},
   "outputs": [
    {
     "data": {
      "text/plain": [
       "count       75598\n",
       "unique          4\n",
       "top       venture\n",
       "freq        48107\n",
       "Name: funding_round_type, dtype: object"
      ]
     },
     "execution_count": 34,
     "metadata": {},
     "output_type": "execute_result"
    }
   ],
   "source": [
    "master_frame['funding_round_type'].describe()"
   ]
  },
  {
   "cell_type": "code",
   "execution_count": 35,
   "metadata": {},
   "outputs": [
    {
     "name": "stdout",
     "output_type": "stream",
     "text": [
      "719865.433644\n"
     ]
    },
    {
     "data": {
      "text/html": [
       "<div>\n",
       "<style scoped>\n",
       "    .dataframe tbody tr th:only-of-type {\n",
       "        vertical-align: middle;\n",
       "    }\n",
       "\n",
       "    .dataframe tbody tr th {\n",
       "        vertical-align: top;\n",
       "    }\n",
       "\n",
       "    .dataframe thead th {\n",
       "        text-align: right;\n",
       "    }\n",
       "</style>\n",
       "<table border=\"1\" class=\"dataframe\">\n",
       "  <thead>\n",
       "    <tr style=\"text-align: right;\">\n",
       "      <th></th>\n",
       "      <th>raised_amount_usd</th>\n",
       "    </tr>\n",
       "    <tr>\n",
       "      <th>funding_round_type</th>\n",
       "      <th></th>\n",
       "    </tr>\n",
       "  </thead>\n",
       "  <tbody>\n",
       "    <tr>\n",
       "      <th>angel</th>\n",
       "      <td>0.968560</td>\n",
       "    </tr>\n",
       "    <tr>\n",
       "      <th>private_equity</th>\n",
       "      <td>73.618564</td>\n",
       "    </tr>\n",
       "    <tr>\n",
       "      <th>seed</th>\n",
       "      <td>0.748160</td>\n",
       "    </tr>\n",
       "    <tr>\n",
       "      <th>venture</th>\n",
       "      <td>11.736439</td>\n",
       "    </tr>\n",
       "  </tbody>\n",
       "</table>\n",
       "</div>"
      ],
      "text/plain": [
       "                    raised_amount_usd\n",
       "funding_round_type                   \n",
       "angel                        0.968560\n",
       "private_equity              73.618564\n",
       "seed                         0.748160\n",
       "venture                     11.736439"
      ]
     },
     "execution_count": 35,
     "metadata": {},
     "output_type": "execute_result"
    }
   ],
   "source": [
    "#Finding the average funding funding_round_type-wise (in million USD)\n",
    "total_investment = master_frame['raised_amount_usd'].sum()/1000000\n",
    "print(total_investment)\n",
    "mf_by_fundtype = master_frame.groupby('funding_round_type')\n",
    "table1 = mf_by_fundtype['raised_amount_usd'].sum()/(total_investment*1000000)\n",
    "table2 = mf_by_fundtype['raised_amount_usd'].mean()/1000000\n",
    "\n",
    "table1.to_frame()\n",
    "table2.to_frame()\n"
   ]
  },
  {
   "cell_type": "code",
   "execution_count": 36,
   "metadata": {},
   "outputs": [
    {
     "name": "stdout",
     "output_type": "stream",
     "text": [
      "<class 'pandas.core.frame.DataFrame'>\n",
      "Int64Index: 48107 entries, 0 to 114941\n",
      "Data columns (total 14 columns):\n",
      "company_permalink          48107 non-null object\n",
      "funding_round_permalink    48107 non-null object\n",
      "funding_round_type         48107 non-null object\n",
      "funded_at                  48107 non-null object\n",
      "raised_amount_usd          48107 non-null float64\n",
      "permalink                  48107 non-null object\n",
      "name                       48107 non-null object\n",
      "homepage_url               48107 non-null object\n",
      "category_list              48107 non-null category\n",
      "status                     48107 non-null object\n",
      "country_code               48107 non-null object\n",
      "state_code                 48107 non-null object\n",
      "region                     48107 non-null object\n",
      "city                       48107 non-null object\n",
      "dtypes: category(1), float64(1), object(12)\n",
      "memory usage: 6.0+ MB\n"
     ]
    }
   ],
   "source": [
    "#Since Spark Funds wants to invest between 5 to 15 million USD per investment round, Venture investment type is the most suitable for it\n",
    "#So filtering out other data.\n",
    "master_frame_ft = master_frame[master_frame['funding_round_type']=='venture']\n",
    "master_frame_ft.info()"
   ]
  },
  {
   "cell_type": "code",
   "execution_count": 37,
   "metadata": {},
   "outputs": [
    {
     "name": "stderr",
     "output_type": "stream",
     "text": [
      "C:\\Users\\epanjee\\AppData\\Local\\Continuum\\anaconda3\\lib\\site-packages\\ipykernel_launcher.py:4: SettingWithCopyWarning: \n",
      "A value is trying to be set on a copy of a slice from a DataFrame.\n",
      "Try using .loc[row_indexer,col_indexer] = value instead\n",
      "\n",
      "See the caveats in the documentation: http://pandas.pydata.org/pandas-docs/stable/indexing.html#indexing-view-versus-copy\n",
      "  after removing the cwd from sys.path.\n"
     ]
    },
    {
     "data": {
      "text/plain": [
       "[IND, CHN, CAN, USA, GBR, FRA, ESP, DEU, ISR]\n",
       "Categories (9, object): [IND, CHN, CAN, USA, ..., FRA, ESP, DEU, ISR]"
      ]
     },
     "execution_count": 37,
     "metadata": {},
     "output_type": "execute_result"
    }
   ],
   "source": [
    "#Spark Funds wants to see the top nine countries which have received the highest total funding(in million USD)\n",
    "#Getting the Top 9 Countries with highest ivestments\n",
    "top9 = master_frame_ft\n",
    "top9['country_code'] = top9['country_code'].astype('category')\n",
    "list_top9 = top9['country_code'].value_counts('raised_amount_usd').sort_values(ascending = False).head(9)\n",
    "list_top9 = list_top9.index.tolist()\n",
    "#Filtering data only for the top9 countries\n",
    "top9 = top9[top9['country_code'].isin(list_top9)]\n",
    "top9.country_code.unique()\n"
   ]
  },
  {
   "cell_type": "code",
   "execution_count": 38,
   "metadata": {},
   "outputs": [
    {
     "data": {
      "text/html": [
       "<div>\n",
       "<style scoped>\n",
       "    .dataframe tbody tr th:only-of-type {\n",
       "        vertical-align: middle;\n",
       "    }\n",
       "\n",
       "    .dataframe tbody tr th {\n",
       "        vertical-align: top;\n",
       "    }\n",
       "\n",
       "    .dataframe thead th {\n",
       "        text-align: right;\n",
       "    }\n",
       "</style>\n",
       "<table border=\"1\" class=\"dataframe\">\n",
       "  <thead>\n",
       "    <tr style=\"text-align: right;\">\n",
       "      <th></th>\n",
       "      <th>country_code</th>\n",
       "      <th>english_official</th>\n",
       "    </tr>\n",
       "  </thead>\n",
       "  <tbody>\n",
       "    <tr>\n",
       "      <th>0</th>\n",
       "      <td>USA</td>\n",
       "      <td>Yes</td>\n",
       "    </tr>\n",
       "    <tr>\n",
       "      <th>1</th>\n",
       "      <td>GBR</td>\n",
       "      <td>Yes</td>\n",
       "    </tr>\n",
       "    <tr>\n",
       "      <th>2</th>\n",
       "      <td>CHN</td>\n",
       "      <td>No</td>\n",
       "    </tr>\n",
       "    <tr>\n",
       "      <th>3</th>\n",
       "      <td>CAN</td>\n",
       "      <td>Yes</td>\n",
       "    </tr>\n",
       "    <tr>\n",
       "      <th>4</th>\n",
       "      <td>FRA</td>\n",
       "      <td>No</td>\n",
       "    </tr>\n",
       "    <tr>\n",
       "      <th>5</th>\n",
       "      <td>IND</td>\n",
       "      <td>Yes</td>\n",
       "    </tr>\n",
       "    <tr>\n",
       "      <th>6</th>\n",
       "      <td>ISR</td>\n",
       "      <td>No</td>\n",
       "    </tr>\n",
       "    <tr>\n",
       "      <th>7</th>\n",
       "      <td>DEU</td>\n",
       "      <td>No</td>\n",
       "    </tr>\n",
       "    <tr>\n",
       "      <th>8</th>\n",
       "      <td>ESP</td>\n",
       "      <td>No</td>\n",
       "    </tr>\n",
       "  </tbody>\n",
       "</table>\n",
       "</div>"
      ],
      "text/plain": [
       "  country_code english_official\n",
       "0          USA              Yes\n",
       "1          GBR              Yes\n",
       "2          CHN               No\n",
       "3          CAN              Yes\n",
       "4          FRA               No\n",
       "5          IND              Yes\n",
       "6          ISR               No\n",
       "7          DEU               No\n",
       "8          ESP               No"
      ]
     },
     "execution_count": 38,
     "metadata": {},
     "output_type": "execute_result"
    }
   ],
   "source": [
    "#To Identify the top three English-speaking countries in the data frame top9, we extract the English Speaking countries from the URL provided\n",
    "import requests, bs4\n",
    "\n",
    "# getting HTML from the Google Play web page\n",
    "url = \"https://en.wikipedia.org/wiki/List_of_territorial_entities_where_English_is_an_official_language\"\n",
    "req = requests.get(url)\n",
    "\n",
    "# creating a bs4 object to hold the content of the web page\n",
    "soup = bs4.BeautifulSoup(req.content, \"html5lib\")\n",
    "#Extracting all tables in the page\n",
    "My_table = str(soup.find_all('table',{'class':'wikitable sortable'}))\n",
    "english_speaking = pd.DataFrame(columns=['country_code','english_official'])\n",
    "#Adding the rows for english speaking and non-english speaking countries\n",
    "for country in list_top9 :\n",
    "    if country in My_table :\n",
    "        english_speaking = english_speaking.append({'country_code': country, 'english_official' : 'Yes' }, ignore_index=True)\n",
    "    else :\n",
    "        english_speaking = english_speaking.append({'country_code': country, 'english_official' : 'No' }, ignore_index=True)\n",
    "\n",
    "english_speaking"
   ]
  },
  {
   "cell_type": "code",
   "execution_count": 39,
   "metadata": {},
   "outputs": [
    {
     "data": {
      "text/plain": [
       "company_permalink          44425\n",
       "funding_round_permalink    44425\n",
       "funding_round_type         44425\n",
       "funded_at                  44425\n",
       "raised_amount_usd          44425\n",
       "permalink                  44425\n",
       "name                       44425\n",
       "homepage_url               44425\n",
       "category_list              44425\n",
       "status                     44425\n",
       "country_code               44425\n",
       "state_code                 44425\n",
       "region                     44425\n",
       "city                       44425\n",
       "english_official           44425\n",
       "dtype: int64"
      ]
     },
     "execution_count": 39,
     "metadata": {},
     "output_type": "execute_result"
    }
   ],
   "source": [
    "#merging the top9 and english_speaking dataframes.\n",
    "top9 = pd.merge(top9, english_speaking, how='left', on='country_code')\n",
    "top9.count()"
   ]
  },
  {
   "cell_type": "code",
   "execution_count": 107,
   "metadata": {},
   "outputs": [
    {
     "data": {
      "text/html": [
       "<div>\n",
       "<style scoped>\n",
       "    .dataframe tbody tr th:only-of-type {\n",
       "        vertical-align: middle;\n",
       "    }\n",
       "\n",
       "    .dataframe tbody tr th {\n",
       "        vertical-align: top;\n",
       "    }\n",
       "\n",
       "    .dataframe thead th {\n",
       "        text-align: right;\n",
       "    }\n",
       "</style>\n",
       "<table border=\"1\" class=\"dataframe\">\n",
       "  <thead>\n",
       "    <tr style=\"text-align: right;\">\n",
       "      <th></th>\n",
       "      <th>raised_amount_usd</th>\n",
       "    </tr>\n",
       "    <tr>\n",
       "      <th>country_code</th>\n",
       "      <th></th>\n",
       "    </tr>\n",
       "  </thead>\n",
       "  <tbody>\n",
       "    <tr>\n",
       "      <th>USA</th>\n",
       "      <td>422510.842796</td>\n",
       "    </tr>\n",
       "    <tr>\n",
       "      <th>GBR</th>\n",
       "      <td>20234.971737</td>\n",
       "    </tr>\n",
       "    <tr>\n",
       "      <th>IND</th>\n",
       "      <td>14391.858718</td>\n",
       "    </tr>\n",
       "  </tbody>\n",
       "</table>\n",
       "</div>"
      ],
      "text/plain": [
       "              raised_amount_usd\n",
       "country_code                   \n",
       "USA               422510.842796\n",
       "GBR                20234.971737\n",
       "IND                14391.858718"
      ]
     },
     "execution_count": 107,
     "metadata": {},
     "output_type": "execute_result"
    }
   ],
   "source": [
    "#english speaking conurties\n",
    "top_english_speaking = top9[top9['english_official'] == \"Yes\"]\n",
    "#Top3 fundings country-wise (in million USD)\n",
    "top_by_country = top_english_speaking.groupby('country_code')\n",
    "(top_by_country['raised_amount_usd'].sum().sort_values(ascending=False).head(3)/1000000).to_frame()\n"
   ]
  },
  {
   "cell_type": "code",
   "execution_count": 108,
   "metadata": {},
   "outputs": [
    {
     "data": {
      "text/plain": [
       "[Media, Biotechnology, Analytics, Apps|Cable|Distribution|Software, Education, ..., Billing|SaaS|Software, Concerts|Curated Web|Entertainment|Events|Kids..., 3D|3D Printing|Content, Crowdsourcing|Knowledge Management, Facebook Applications|Games|Networking|Technology]\n",
       "Length: 8067\n",
       "Categories (8067, object): [Media, Biotechnology, Analytics, Apps|Cable|Distribution|Software, ..., Concerts|Curated Web|Entertainment|Events|Kids..., 3D|3D Printing|Content, Crowdsourcing|Knowledge Management, Facebook Applications|Games|Networking|Technology]"
      ]
     },
     "execution_count": 108,
     "metadata": {},
     "output_type": "execute_result"
    }
   ],
   "source": [
    "top_english_speaking.category_list.unique()"
   ]
  },
  {
   "cell_type": "code",
   "execution_count": 42,
   "metadata": {},
   "outputs": [
    {
     "name": "stderr",
     "output_type": "stream",
     "text": [
      "C:\\Users\\epanjee\\AppData\\Local\\Continuum\\anaconda3\\lib\\site-packages\\ipykernel_launcher.py:5: SettingWithCopyWarning: \n",
      "A value is trying to be set on a copy of a slice from a DataFrame.\n",
      "Try using .loc[row_indexer,col_indexer] = value instead\n",
      "\n",
      "See the caveats in the documentation: http://pandas.pydata.org/pandas-docs/stable/indexing.html#indexing-view-versus-copy\n",
      "  \"\"\"\n"
     ]
    }
   ],
   "source": [
    "# Create a function to be applied to split and get the primary_sector\n",
    "def split_sector(str):\n",
    "    return [x[:] for x in str.split(\"|\")][0]\n",
    "\n",
    "top_english_speaking['primary_sector'] = top_english_speaking.category_list.apply(split_sector)"
   ]
  },
  {
   "cell_type": "code",
   "execution_count": 43,
   "metadata": {},
   "outputs": [
    {
     "data": {
      "text/html": [
       "<div>\n",
       "<style scoped>\n",
       "    .dataframe tbody tr th:only-of-type {\n",
       "        vertical-align: middle;\n",
       "    }\n",
       "\n",
       "    .dataframe tbody tr th {\n",
       "        vertical-align: top;\n",
       "    }\n",
       "\n",
       "    .dataframe thead th {\n",
       "        text-align: right;\n",
       "    }\n",
       "</style>\n",
       "<table border=\"1\" class=\"dataframe\">\n",
       "  <thead>\n",
       "    <tr style=\"text-align: right;\">\n",
       "      <th></th>\n",
       "      <th>company_permalink</th>\n",
       "      <th>funding_round_permalink</th>\n",
       "      <th>funding_round_type</th>\n",
       "      <th>funded_at</th>\n",
       "      <th>raised_amount_usd</th>\n",
       "      <th>permalink</th>\n",
       "      <th>name</th>\n",
       "      <th>homepage_url</th>\n",
       "      <th>category_list</th>\n",
       "      <th>status</th>\n",
       "      <th>country_code</th>\n",
       "      <th>state_code</th>\n",
       "      <th>region</th>\n",
       "      <th>city</th>\n",
       "      <th>english_official</th>\n",
       "      <th>primary_sector</th>\n",
       "    </tr>\n",
       "  </thead>\n",
       "  <tbody>\n",
       "    <tr>\n",
       "      <th>0</th>\n",
       "      <td>/ORGANIZATION/-FAME</td>\n",
       "      <td>/funding-round/9a01d05418af9f794eebff7ace91f638</td>\n",
       "      <td>venture</td>\n",
       "      <td>05-01-2015</td>\n",
       "      <td>10000000.0</td>\n",
       "      <td>/ORGANIZATION/-FAME</td>\n",
       "      <td>#fame</td>\n",
       "      <td>http://livfame.com</td>\n",
       "      <td>Media</td>\n",
       "      <td>operating</td>\n",
       "      <td>IND</td>\n",
       "      <td>16</td>\n",
       "      <td>Mumbai</td>\n",
       "      <td>Mumbai</td>\n",
       "      <td>Yes</td>\n",
       "      <td>Media</td>\n",
       "    </tr>\n",
       "    <tr>\n",
       "      <th>2</th>\n",
       "      <td>/ORGANIZATION/0NDINE-BIOMEDICAL-INC</td>\n",
       "      <td>/funding-round/954b9499724b946ad8c396a57a5f3b72</td>\n",
       "      <td>venture</td>\n",
       "      <td>21-12-2009</td>\n",
       "      <td>719491.0</td>\n",
       "      <td>/ORGANIZATION/0NDINE-BIOMEDICAL-INC</td>\n",
       "      <td>Ondine Biomedical Inc.</td>\n",
       "      <td>http://ondinebio.com</td>\n",
       "      <td>Biotechnology</td>\n",
       "      <td>operating</td>\n",
       "      <td>CAN</td>\n",
       "      <td>BC</td>\n",
       "      <td>Vancouver</td>\n",
       "      <td>Vancouver</td>\n",
       "      <td>Yes</td>\n",
       "      <td>Biotechnology</td>\n",
       "    </tr>\n",
       "    <tr>\n",
       "      <th>3</th>\n",
       "      <td>/ORGANIZATION/0XDATA</td>\n",
       "      <td>/funding-round/3bb2ee4a2d89251a10aaa735b1180e44</td>\n",
       "      <td>venture</td>\n",
       "      <td>09-11-2015</td>\n",
       "      <td>20000000.0</td>\n",
       "      <td>/ORGANIZATION/0XDATA</td>\n",
       "      <td>H2O.ai</td>\n",
       "      <td>http://h2o.ai/</td>\n",
       "      <td>Analytics</td>\n",
       "      <td>operating</td>\n",
       "      <td>USA</td>\n",
       "      <td>CA</td>\n",
       "      <td>SF Bay Area</td>\n",
       "      <td>Mountain View</td>\n",
       "      <td>Yes</td>\n",
       "      <td>Analytics</td>\n",
       "    </tr>\n",
       "    <tr>\n",
       "      <th>4</th>\n",
       "      <td>/ORGANIZATION/0XDATA</td>\n",
       "      <td>/funding-round/ae2a174c06517c2394aed45006322a7e</td>\n",
       "      <td>venture</td>\n",
       "      <td>03-01-2013</td>\n",
       "      <td>1700000.0</td>\n",
       "      <td>/ORGANIZATION/0XDATA</td>\n",
       "      <td>H2O.ai</td>\n",
       "      <td>http://h2o.ai/</td>\n",
       "      <td>Analytics</td>\n",
       "      <td>operating</td>\n",
       "      <td>USA</td>\n",
       "      <td>CA</td>\n",
       "      <td>SF Bay Area</td>\n",
       "      <td>Mountain View</td>\n",
       "      <td>Yes</td>\n",
       "      <td>Analytics</td>\n",
       "    </tr>\n",
       "    <tr>\n",
       "      <th>5</th>\n",
       "      <td>/ORGANIZATION/0XDATA</td>\n",
       "      <td>/funding-round/e1cfcbe1bdf4c70277c5f29a3482f24e</td>\n",
       "      <td>venture</td>\n",
       "      <td>19-07-2014</td>\n",
       "      <td>8900000.0</td>\n",
       "      <td>/ORGANIZATION/0XDATA</td>\n",
       "      <td>H2O.ai</td>\n",
       "      <td>http://h2o.ai/</td>\n",
       "      <td>Analytics</td>\n",
       "      <td>operating</td>\n",
       "      <td>USA</td>\n",
       "      <td>CA</td>\n",
       "      <td>SF Bay Area</td>\n",
       "      <td>Mountain View</td>\n",
       "      <td>Yes</td>\n",
       "      <td>Analytics</td>\n",
       "    </tr>\n",
       "    <tr>\n",
       "      <th>6</th>\n",
       "      <td>/ORGANIZATION/1-MAINSTREAM</td>\n",
       "      <td>/funding-round/b952cbaf401f310927430c97b68162ea</td>\n",
       "      <td>venture</td>\n",
       "      <td>17-03-2015</td>\n",
       "      <td>5000000.0</td>\n",
       "      <td>/ORGANIZATION/1-MAINSTREAM</td>\n",
       "      <td>1 Mainstream</td>\n",
       "      <td>http://www.1mainstream.com</td>\n",
       "      <td>Apps|Cable|Distribution|Software</td>\n",
       "      <td>acquired</td>\n",
       "      <td>USA</td>\n",
       "      <td>CA</td>\n",
       "      <td>SF Bay Area</td>\n",
       "      <td>Cupertino</td>\n",
       "      <td>Yes</td>\n",
       "      <td>Apps</td>\n",
       "    </tr>\n",
       "    <tr>\n",
       "      <th>7</th>\n",
       "      <td>/ORGANIZATION/10-MINUTES-WITH</td>\n",
       "      <td>/funding-round/0faccbbcc5818dc5326469f13f5a8ac8</td>\n",
       "      <td>venture</td>\n",
       "      <td>09-10-2014</td>\n",
       "      <td>4000000.0</td>\n",
       "      <td>/ORGANIZATION/10-MINUTES-WITH</td>\n",
       "      <td>10 Minutes With</td>\n",
       "      <td>http://10minuteswith.com</td>\n",
       "      <td>Education</td>\n",
       "      <td>operating</td>\n",
       "      <td>GBR</td>\n",
       "      <td>H9</td>\n",
       "      <td>London</td>\n",
       "      <td>London</td>\n",
       "      <td>Yes</td>\n",
       "      <td>Education</td>\n",
       "    </tr>\n",
       "    <tr>\n",
       "      <th>8</th>\n",
       "      <td>/ORGANIZATION/1000MEMORIES</td>\n",
       "      <td>/funding-round/502bd0e50c27616995e4bdad24605ef8</td>\n",
       "      <td>venture</td>\n",
       "      <td>16-02-2011</td>\n",
       "      <td>2520000.0</td>\n",
       "      <td>/ORGANIZATION/1000MEMORIES</td>\n",
       "      <td>1000memories</td>\n",
       "      <td>http://1000memories.com</td>\n",
       "      <td>Curated Web</td>\n",
       "      <td>acquired</td>\n",
       "      <td>USA</td>\n",
       "      <td>CA</td>\n",
       "      <td>SF Bay Area</td>\n",
       "      <td>San Francisco</td>\n",
       "      <td>Yes</td>\n",
       "      <td>Curated Web</td>\n",
       "    </tr>\n",
       "    <tr>\n",
       "      <th>9</th>\n",
       "      <td>/ORGANIZATION/1000MUSEUMS-COM</td>\n",
       "      <td>/funding-round/13be128d655076a025221d7fddc90d68</td>\n",
       "      <td>venture</td>\n",
       "      <td>14-10-2009</td>\n",
       "      <td>265940.0</td>\n",
       "      <td>/ORGANIZATION/1000MUSEUMS-COM</td>\n",
       "      <td>1000museums.com</td>\n",
       "      <td>http://www.1000museums.com</td>\n",
       "      <td>Curated Web</td>\n",
       "      <td>operating</td>\n",
       "      <td>USA</td>\n",
       "      <td>MA</td>\n",
       "      <td>MA - Other</td>\n",
       "      <td>Lenox</td>\n",
       "      <td>Yes</td>\n",
       "      <td>Curated Web</td>\n",
       "    </tr>\n",
       "    <tr>\n",
       "      <th>10</th>\n",
       "      <td>/ORGANIZATION/1000MUSEUMS-COM</td>\n",
       "      <td>/funding-round/6aeb32ab3fc05db2b606d7a2466e8c09</td>\n",
       "      <td>venture</td>\n",
       "      <td>15-01-2014</td>\n",
       "      <td>2906832.0</td>\n",
       "      <td>/ORGANIZATION/1000MUSEUMS-COM</td>\n",
       "      <td>1000museums.com</td>\n",
       "      <td>http://www.1000museums.com</td>\n",
       "      <td>Curated Web</td>\n",
       "      <td>operating</td>\n",
       "      <td>USA</td>\n",
       "      <td>MA</td>\n",
       "      <td>MA - Other</td>\n",
       "      <td>Lenox</td>\n",
       "      <td>Yes</td>\n",
       "      <td>Curated Web</td>\n",
       "    </tr>\n",
       "  </tbody>\n",
       "</table>\n",
       "</div>"
      ],
      "text/plain": [
       "                      company_permalink  \\\n",
       "0                   /ORGANIZATION/-FAME   \n",
       "2   /ORGANIZATION/0NDINE-BIOMEDICAL-INC   \n",
       "3                  /ORGANIZATION/0XDATA   \n",
       "4                  /ORGANIZATION/0XDATA   \n",
       "5                  /ORGANIZATION/0XDATA   \n",
       "6            /ORGANIZATION/1-MAINSTREAM   \n",
       "7         /ORGANIZATION/10-MINUTES-WITH   \n",
       "8            /ORGANIZATION/1000MEMORIES   \n",
       "9         /ORGANIZATION/1000MUSEUMS-COM   \n",
       "10        /ORGANIZATION/1000MUSEUMS-COM   \n",
       "\n",
       "                            funding_round_permalink funding_round_type  \\\n",
       "0   /funding-round/9a01d05418af9f794eebff7ace91f638            venture   \n",
       "2   /funding-round/954b9499724b946ad8c396a57a5f3b72            venture   \n",
       "3   /funding-round/3bb2ee4a2d89251a10aaa735b1180e44            venture   \n",
       "4   /funding-round/ae2a174c06517c2394aed45006322a7e            venture   \n",
       "5   /funding-round/e1cfcbe1bdf4c70277c5f29a3482f24e            venture   \n",
       "6   /funding-round/b952cbaf401f310927430c97b68162ea            venture   \n",
       "7   /funding-round/0faccbbcc5818dc5326469f13f5a8ac8            venture   \n",
       "8   /funding-round/502bd0e50c27616995e4bdad24605ef8            venture   \n",
       "9   /funding-round/13be128d655076a025221d7fddc90d68            venture   \n",
       "10  /funding-round/6aeb32ab3fc05db2b606d7a2466e8c09            venture   \n",
       "\n",
       "     funded_at  raised_amount_usd                            permalink  \\\n",
       "0   05-01-2015         10000000.0                  /ORGANIZATION/-FAME   \n",
       "2   21-12-2009           719491.0  /ORGANIZATION/0NDINE-BIOMEDICAL-INC   \n",
       "3   09-11-2015         20000000.0                 /ORGANIZATION/0XDATA   \n",
       "4   03-01-2013          1700000.0                 /ORGANIZATION/0XDATA   \n",
       "5   19-07-2014          8900000.0                 /ORGANIZATION/0XDATA   \n",
       "6   17-03-2015          5000000.0           /ORGANIZATION/1-MAINSTREAM   \n",
       "7   09-10-2014          4000000.0        /ORGANIZATION/10-MINUTES-WITH   \n",
       "8   16-02-2011          2520000.0           /ORGANIZATION/1000MEMORIES   \n",
       "9   14-10-2009           265940.0        /ORGANIZATION/1000MUSEUMS-COM   \n",
       "10  15-01-2014          2906832.0        /ORGANIZATION/1000MUSEUMS-COM   \n",
       "\n",
       "                      name                homepage_url  \\\n",
       "0                    #fame          http://livfame.com   \n",
       "2   Ondine Biomedical Inc.        http://ondinebio.com   \n",
       "3                   H2O.ai              http://h2o.ai/   \n",
       "4                   H2O.ai              http://h2o.ai/   \n",
       "5                   H2O.ai              http://h2o.ai/   \n",
       "6             1 Mainstream  http://www.1mainstream.com   \n",
       "7          10 Minutes With    http://10minuteswith.com   \n",
       "8             1000memories     http://1000memories.com   \n",
       "9          1000museums.com  http://www.1000museums.com   \n",
       "10         1000museums.com  http://www.1000museums.com   \n",
       "\n",
       "                       category_list     status country_code state_code  \\\n",
       "0                              Media  operating          IND         16   \n",
       "2                      Biotechnology  operating          CAN         BC   \n",
       "3                          Analytics  operating          USA         CA   \n",
       "4                          Analytics  operating          USA         CA   \n",
       "5                          Analytics  operating          USA         CA   \n",
       "6   Apps|Cable|Distribution|Software   acquired          USA         CA   \n",
       "7                          Education  operating          GBR         H9   \n",
       "8                        Curated Web   acquired          USA         CA   \n",
       "9                        Curated Web  operating          USA         MA   \n",
       "10                       Curated Web  operating          USA         MA   \n",
       "\n",
       "         region           city english_official primary_sector  \n",
       "0        Mumbai         Mumbai              Yes          Media  \n",
       "2     Vancouver      Vancouver              Yes  Biotechnology  \n",
       "3   SF Bay Area  Mountain View              Yes      Analytics  \n",
       "4   SF Bay Area  Mountain View              Yes      Analytics  \n",
       "5   SF Bay Area  Mountain View              Yes      Analytics  \n",
       "6   SF Bay Area      Cupertino              Yes           Apps  \n",
       "7        London         London              Yes      Education  \n",
       "8   SF Bay Area  San Francisco              Yes    Curated Web  \n",
       "9    MA - Other          Lenox              Yes    Curated Web  \n",
       "10   MA - Other          Lenox              Yes    Curated Web  "
      ]
     },
     "execution_count": 43,
     "metadata": {},
     "output_type": "execute_result"
    }
   ],
   "source": [
    "top_english_speaking.head(10)"
   ]
  },
  {
   "cell_type": "code",
   "execution_count": 44,
   "metadata": {},
   "outputs": [],
   "source": [
    "#We see mapping ['category_list'] has 'Analytics' as 'A0lytics', meaning all 'na' are '0'. Replacing these values to correct them\n",
    "mapping['category_list'] = mapping['category_list'].str.replace('0','na')\n",
    "\n",
    "mapping['category_list'] = mapping['category_list'].str.replace('Enterprise 2.na','Enterprise 2.0')\n",
    "mapping['category_list'] = mapping['category_list'].str.title()"
   ]
  },
  {
   "cell_type": "code",
   "execution_count": 45,
   "metadata": {},
   "outputs": [
    {
     "name": "stderr",
     "output_type": "stream",
     "text": [
      "C:\\Users\\epanjee\\AppData\\Local\\Continuum\\anaconda3\\lib\\site-packages\\ipykernel_launcher.py:18: DeprecationWarning: select condlists containing integer ndarrays is deprecated and will be removed in the future. Use `.astype(bool)` to convert to bools.\n"
     ]
    }
   ],
   "source": [
    "#Introducing new column master_sector in mapping dataframe which will have the corresponding sector name instead of 0,1 mapping\n",
    "conditions = [\n",
    "    mapping['Automotive & Sports'] == 1,\n",
    "    mapping['Blanks'],\n",
    "    mapping['Cleantech / Semiconductors'] == 1,\n",
    "    mapping['Entertainment'] == 1,\n",
    "    mapping['Health'] == 1,\n",
    "    mapping['Manufacturing'] == 1,    \n",
    "    mapping['News, Search and Messaging'] == 1,\n",
    "    mapping['Others'] == 1,\n",
    "    mapping['Social, Finance, Analytics, Advertising'] == 1\n",
    "]\n",
    "\n",
    "outputs = ['Automotive & Sports', 'Blanks', 'Cleantech / Semiconductors',\n",
    "       'Entertainment', 'Health', 'Manufacturing',\n",
    "       'News, Search and Messaging', 'Others',\n",
    "       'Social, Finance, Analytics, Advertising']\n",
    "mapping['main_sector'] = np.select(conditions, outputs, 'Blanks')"
   ]
  },
  {
   "cell_type": "code",
   "execution_count": 46,
   "metadata": {},
   "outputs": [
    {
     "name": "stderr",
     "output_type": "stream",
     "text": [
      "C:\\Users\\epanjee\\AppData\\Local\\Continuum\\anaconda3\\lib\\site-packages\\ipykernel_launcher.py:2: SettingWithCopyWarning: \n",
      "A value is trying to be set on a copy of a slice from a DataFrame.\n",
      "Try using .loc[row_indexer,col_indexer] = value instead\n",
      "\n",
      "See the caveats in the documentation: http://pandas.pydata.org/pandas-docs/stable/indexing.html#indexing-view-versus-copy\n",
      "  \n"
     ]
    }
   ],
   "source": [
    "mapping.head(10)\n",
    "top_english_speaking['primary_sector'] = top_english_speaking['primary_sector'].str.title()"
   ]
  },
  {
   "cell_type": "code",
   "execution_count": 47,
   "metadata": {},
   "outputs": [],
   "source": [
    "top_english_speaking = pd.merge(top_english_speaking, mapping[['category_list','main_sector']], how='left', left_on='primary_sector',right_on='category_list')"
   ]
  },
  {
   "cell_type": "code",
   "execution_count": 48,
   "metadata": {},
   "outputs": [
    {
     "data": {
      "text/html": [
       "<div>\n",
       "<style scoped>\n",
       "    .dataframe tbody tr th:only-of-type {\n",
       "        vertical-align: middle;\n",
       "    }\n",
       "\n",
       "    .dataframe tbody tr th {\n",
       "        vertical-align: top;\n",
       "    }\n",
       "\n",
       "    .dataframe thead th {\n",
       "        text-align: right;\n",
       "    }\n",
       "</style>\n",
       "<table border=\"1\" class=\"dataframe\">\n",
       "  <thead>\n",
       "    <tr style=\"text-align: right;\">\n",
       "      <th></th>\n",
       "      <th>company_permalink</th>\n",
       "      <th>funding_round_permalink</th>\n",
       "      <th>funding_round_type</th>\n",
       "      <th>funded_at</th>\n",
       "      <th>raised_amount_usd</th>\n",
       "      <th>permalink</th>\n",
       "      <th>name</th>\n",
       "      <th>homepage_url</th>\n",
       "      <th>category_list_x</th>\n",
       "      <th>status</th>\n",
       "      <th>country_code</th>\n",
       "      <th>state_code</th>\n",
       "      <th>region</th>\n",
       "      <th>city</th>\n",
       "      <th>english_official</th>\n",
       "      <th>primary_sector</th>\n",
       "      <th>category_list_y</th>\n",
       "      <th>main_sector</th>\n",
       "    </tr>\n",
       "  </thead>\n",
       "  <tbody>\n",
       "    <tr>\n",
       "      <th>0</th>\n",
       "      <td>/ORGANIZATION/-FAME</td>\n",
       "      <td>/funding-round/9a01d05418af9f794eebff7ace91f638</td>\n",
       "      <td>venture</td>\n",
       "      <td>05-01-2015</td>\n",
       "      <td>10000000.0</td>\n",
       "      <td>/ORGANIZATION/-FAME</td>\n",
       "      <td>#fame</td>\n",
       "      <td>http://livfame.com</td>\n",
       "      <td>Media</td>\n",
       "      <td>operating</td>\n",
       "      <td>IND</td>\n",
       "      <td>16</td>\n",
       "      <td>Mumbai</td>\n",
       "      <td>Mumbai</td>\n",
       "      <td>Yes</td>\n",
       "      <td>Media</td>\n",
       "      <td>Media</td>\n",
       "      <td>Entertainment</td>\n",
       "    </tr>\n",
       "    <tr>\n",
       "      <th>1</th>\n",
       "      <td>/ORGANIZATION/0NDINE-BIOMEDICAL-INC</td>\n",
       "      <td>/funding-round/954b9499724b946ad8c396a57a5f3b72</td>\n",
       "      <td>venture</td>\n",
       "      <td>21-12-2009</td>\n",
       "      <td>719491.0</td>\n",
       "      <td>/ORGANIZATION/0NDINE-BIOMEDICAL-INC</td>\n",
       "      <td>Ondine Biomedical Inc.</td>\n",
       "      <td>http://ondinebio.com</td>\n",
       "      <td>Biotechnology</td>\n",
       "      <td>operating</td>\n",
       "      <td>CAN</td>\n",
       "      <td>BC</td>\n",
       "      <td>Vancouver</td>\n",
       "      <td>Vancouver</td>\n",
       "      <td>Yes</td>\n",
       "      <td>Biotechnology</td>\n",
       "      <td>Biotechnology</td>\n",
       "      <td>Cleantech / Semiconductors</td>\n",
       "    </tr>\n",
       "    <tr>\n",
       "      <th>2</th>\n",
       "      <td>/ORGANIZATION/0XDATA</td>\n",
       "      <td>/funding-round/3bb2ee4a2d89251a10aaa735b1180e44</td>\n",
       "      <td>venture</td>\n",
       "      <td>09-11-2015</td>\n",
       "      <td>20000000.0</td>\n",
       "      <td>/ORGANIZATION/0XDATA</td>\n",
       "      <td>H2O.ai</td>\n",
       "      <td>http://h2o.ai/</td>\n",
       "      <td>Analytics</td>\n",
       "      <td>operating</td>\n",
       "      <td>USA</td>\n",
       "      <td>CA</td>\n",
       "      <td>SF Bay Area</td>\n",
       "      <td>Mountain View</td>\n",
       "      <td>Yes</td>\n",
       "      <td>Analytics</td>\n",
       "      <td>Analytics</td>\n",
       "      <td>Social, Finance, Analytics, Advertising</td>\n",
       "    </tr>\n",
       "    <tr>\n",
       "      <th>3</th>\n",
       "      <td>/ORGANIZATION/0XDATA</td>\n",
       "      <td>/funding-round/ae2a174c06517c2394aed45006322a7e</td>\n",
       "      <td>venture</td>\n",
       "      <td>03-01-2013</td>\n",
       "      <td>1700000.0</td>\n",
       "      <td>/ORGANIZATION/0XDATA</td>\n",
       "      <td>H2O.ai</td>\n",
       "      <td>http://h2o.ai/</td>\n",
       "      <td>Analytics</td>\n",
       "      <td>operating</td>\n",
       "      <td>USA</td>\n",
       "      <td>CA</td>\n",
       "      <td>SF Bay Area</td>\n",
       "      <td>Mountain View</td>\n",
       "      <td>Yes</td>\n",
       "      <td>Analytics</td>\n",
       "      <td>Analytics</td>\n",
       "      <td>Social, Finance, Analytics, Advertising</td>\n",
       "    </tr>\n",
       "    <tr>\n",
       "      <th>4</th>\n",
       "      <td>/ORGANIZATION/0XDATA</td>\n",
       "      <td>/funding-round/e1cfcbe1bdf4c70277c5f29a3482f24e</td>\n",
       "      <td>venture</td>\n",
       "      <td>19-07-2014</td>\n",
       "      <td>8900000.0</td>\n",
       "      <td>/ORGANIZATION/0XDATA</td>\n",
       "      <td>H2O.ai</td>\n",
       "      <td>http://h2o.ai/</td>\n",
       "      <td>Analytics</td>\n",
       "      <td>operating</td>\n",
       "      <td>USA</td>\n",
       "      <td>CA</td>\n",
       "      <td>SF Bay Area</td>\n",
       "      <td>Mountain View</td>\n",
       "      <td>Yes</td>\n",
       "      <td>Analytics</td>\n",
       "      <td>Analytics</td>\n",
       "      <td>Social, Finance, Analytics, Advertising</td>\n",
       "    </tr>\n",
       "  </tbody>\n",
       "</table>\n",
       "</div>"
      ],
      "text/plain": [
       "                     company_permalink  \\\n",
       "0                  /ORGANIZATION/-FAME   \n",
       "1  /ORGANIZATION/0NDINE-BIOMEDICAL-INC   \n",
       "2                 /ORGANIZATION/0XDATA   \n",
       "3                 /ORGANIZATION/0XDATA   \n",
       "4                 /ORGANIZATION/0XDATA   \n",
       "\n",
       "                           funding_round_permalink funding_round_type  \\\n",
       "0  /funding-round/9a01d05418af9f794eebff7ace91f638            venture   \n",
       "1  /funding-round/954b9499724b946ad8c396a57a5f3b72            venture   \n",
       "2  /funding-round/3bb2ee4a2d89251a10aaa735b1180e44            venture   \n",
       "3  /funding-round/ae2a174c06517c2394aed45006322a7e            venture   \n",
       "4  /funding-round/e1cfcbe1bdf4c70277c5f29a3482f24e            venture   \n",
       "\n",
       "    funded_at  raised_amount_usd                            permalink  \\\n",
       "0  05-01-2015         10000000.0                  /ORGANIZATION/-FAME   \n",
       "1  21-12-2009           719491.0  /ORGANIZATION/0NDINE-BIOMEDICAL-INC   \n",
       "2  09-11-2015         20000000.0                 /ORGANIZATION/0XDATA   \n",
       "3  03-01-2013          1700000.0                 /ORGANIZATION/0XDATA   \n",
       "4  19-07-2014          8900000.0                 /ORGANIZATION/0XDATA   \n",
       "\n",
       "                     name          homepage_url category_list_x     status  \\\n",
       "0                   #fame    http://livfame.com           Media  operating   \n",
       "1  Ondine Biomedical Inc.  http://ondinebio.com   Biotechnology  operating   \n",
       "2                  H2O.ai        http://h2o.ai/       Analytics  operating   \n",
       "3                  H2O.ai        http://h2o.ai/       Analytics  operating   \n",
       "4                  H2O.ai        http://h2o.ai/       Analytics  operating   \n",
       "\n",
       "  country_code state_code       region           city english_official  \\\n",
       "0          IND         16       Mumbai         Mumbai              Yes   \n",
       "1          CAN         BC    Vancouver      Vancouver              Yes   \n",
       "2          USA         CA  SF Bay Area  Mountain View              Yes   \n",
       "3          USA         CA  SF Bay Area  Mountain View              Yes   \n",
       "4          USA         CA  SF Bay Area  Mountain View              Yes   \n",
       "\n",
       "  primary_sector category_list_y                              main_sector  \n",
       "0          Media           Media                            Entertainment  \n",
       "1  Biotechnology   Biotechnology               Cleantech / Semiconductors  \n",
       "2      Analytics       Analytics  Social, Finance, Analytics, Advertising  \n",
       "3      Analytics       Analytics  Social, Finance, Analytics, Advertising  \n",
       "4      Analytics       Analytics  Social, Finance, Analytics, Advertising  "
      ]
     },
     "execution_count": 48,
     "metadata": {},
     "output_type": "execute_result"
    }
   ],
   "source": [
    "top_english_speaking.head()"
   ]
  },
  {
   "cell_type": "code",
   "execution_count": 49,
   "metadata": {},
   "outputs": [
    {
     "data": {
      "text/plain": [
       "company_permalink          0.00\n",
       "funding_round_permalink    0.00\n",
       "funding_round_type         0.00\n",
       "funded_at                  0.00\n",
       "raised_amount_usd          0.00\n",
       "permalink                  0.00\n",
       "name                       0.00\n",
       "homepage_url               0.00\n",
       "category_list_x            0.00\n",
       "status                     0.00\n",
       "country_code               0.00\n",
       "state_code                 0.00\n",
       "region                     0.00\n",
       "city                       0.00\n",
       "english_official           0.00\n",
       "primary_sector             0.00\n",
       "category_list_y            0.03\n",
       "main_sector                0.03\n",
       "dtype: float64"
      ]
     },
     "execution_count": 49,
     "metadata": {},
     "output_type": "execute_result"
    }
   ],
   "source": [
    "#Finding if main_sector still has missing values\n",
    "round(100*(top_english_speaking.isnull().sum()/len(top_english_speaking.index)), 2)"
   ]
  },
  {
   "cell_type": "code",
   "execution_count": 50,
   "metadata": {},
   "outputs": [
    {
     "data": {
      "text/plain": [
       "array(['Natural Gas Uses', 'Adaptive Equipment', 'Racing',\n",
       "       'Specialty Retail', 'Biotechnology And Semiconductor',\n",
       "       'Rapidly Expanding', 'Product Search', 'Greentech', 'Retirement'],\n",
       "      dtype=object)"
      ]
     },
     "execution_count": 50,
     "metadata": {},
     "output_type": "execute_result"
    }
   ],
   "source": [
    "top_english_speaking[pd.isnull(top_english_speaking['main_sector'])].primary_sector.unique()"
   ]
  },
  {
   "cell_type": "code",
   "execution_count": 51,
   "metadata": {},
   "outputs": [],
   "source": [
    "#Imputing values for 'main_sector'\n",
    "conditions = [\n",
    "    top_english_speaking['primary_sector'] == 'Racing',\n",
    "    top_english_speaking['primary_sector'].isin(['Natural Gas Uses', 'Biotechnology And Semiconductor','Greentech']),\n",
    "    top_english_speaking['primary_sector'] == 'Adaptive Equipment',\n",
    "    top_english_speaking['primary_sector'].isin(['Product Search','Retirement','Rapidly Expanding']),\n",
    "    top_english_speaking['primary_sector'] == 'Specialty Retail'\n",
    "]\n",
    "\n",
    "outputs = ['Automotive & Sports','Cleantech / Semiconductors','Manufacturing','Others', 'Social, Finance, Analytics, Advertising']\n",
    "top_english_speaking['main_sector'] = np.select(conditions, outputs, top_english_speaking['main_sector'])"
   ]
  },
  {
   "cell_type": "code",
   "execution_count": 52,
   "metadata": {},
   "outputs": [
    {
     "data": {
      "text/plain": [
       "company_permalink          0.00\n",
       "funding_round_permalink    0.00\n",
       "funding_round_type         0.00\n",
       "funded_at                  0.00\n",
       "raised_amount_usd          0.00\n",
       "permalink                  0.00\n",
       "name                       0.00\n",
       "homepage_url               0.00\n",
       "category_list_x            0.00\n",
       "status                     0.00\n",
       "country_code               0.00\n",
       "state_code                 0.00\n",
       "region                     0.00\n",
       "city                       0.00\n",
       "english_official           0.00\n",
       "primary_sector             0.00\n",
       "category_list_y            0.03\n",
       "main_sector                0.00\n",
       "dtype: float64"
      ]
     },
     "execution_count": 52,
     "metadata": {},
     "output_type": "execute_result"
    }
   ],
   "source": [
    "#Finding if main_sector still has missing values\n",
    "round(100*(top_english_speaking.isnull().sum()/len(top_english_speaking.index)), 2)"
   ]
  },
  {
   "cell_type": "code",
   "execution_count": 53,
   "metadata": {},
   "outputs": [],
   "source": [
    "#Dropping duplicate columns for 'category_list'\n",
    "top_english_speaking = top_english_speaking.drop(columns=['category_list_y'])\n",
    "top_english_speaking =top_english_speaking.rename(columns={\"category_list_x\": \"category_list\"})"
   ]
  },
  {
   "cell_type": "code",
   "execution_count": 54,
   "metadata": {},
   "outputs": [
    {
     "data": {
      "text/html": [
       "<div>\n",
       "<style scoped>\n",
       "    .dataframe tbody tr th:only-of-type {\n",
       "        vertical-align: middle;\n",
       "    }\n",
       "\n",
       "    .dataframe tbody tr th {\n",
       "        vertical-align: top;\n",
       "    }\n",
       "\n",
       "    .dataframe thead th {\n",
       "        text-align: right;\n",
       "    }\n",
       "</style>\n",
       "<table border=\"1\" class=\"dataframe\">\n",
       "  <thead>\n",
       "    <tr style=\"text-align: right;\">\n",
       "      <th></th>\n",
       "      <th>company_permalink</th>\n",
       "      <th>funding_round_permalink</th>\n",
       "      <th>funding_round_type</th>\n",
       "      <th>funded_at</th>\n",
       "      <th>raised_amount_usd</th>\n",
       "      <th>permalink</th>\n",
       "      <th>name</th>\n",
       "      <th>homepage_url</th>\n",
       "      <th>category_list</th>\n",
       "      <th>status</th>\n",
       "      <th>country_code</th>\n",
       "      <th>state_code</th>\n",
       "      <th>region</th>\n",
       "      <th>city</th>\n",
       "      <th>english_official</th>\n",
       "      <th>primary_sector</th>\n",
       "      <th>main_sector</th>\n",
       "    </tr>\n",
       "  </thead>\n",
       "  <tbody>\n",
       "    <tr>\n",
       "      <th>0</th>\n",
       "      <td>/ORGANIZATION/-FAME</td>\n",
       "      <td>/funding-round/9a01d05418af9f794eebff7ace91f638</td>\n",
       "      <td>venture</td>\n",
       "      <td>05-01-2015</td>\n",
       "      <td>10000000.0</td>\n",
       "      <td>/ORGANIZATION/-FAME</td>\n",
       "      <td>#fame</td>\n",
       "      <td>http://livfame.com</td>\n",
       "      <td>Media</td>\n",
       "      <td>operating</td>\n",
       "      <td>IND</td>\n",
       "      <td>16</td>\n",
       "      <td>Mumbai</td>\n",
       "      <td>Mumbai</td>\n",
       "      <td>Yes</td>\n",
       "      <td>Media</td>\n",
       "      <td>Entertainment</td>\n",
       "    </tr>\n",
       "    <tr>\n",
       "      <th>1</th>\n",
       "      <td>/ORGANIZATION/0NDINE-BIOMEDICAL-INC</td>\n",
       "      <td>/funding-round/954b9499724b946ad8c396a57a5f3b72</td>\n",
       "      <td>venture</td>\n",
       "      <td>21-12-2009</td>\n",
       "      <td>719491.0</td>\n",
       "      <td>/ORGANIZATION/0NDINE-BIOMEDICAL-INC</td>\n",
       "      <td>Ondine Biomedical Inc.</td>\n",
       "      <td>http://ondinebio.com</td>\n",
       "      <td>Biotechnology</td>\n",
       "      <td>operating</td>\n",
       "      <td>CAN</td>\n",
       "      <td>BC</td>\n",
       "      <td>Vancouver</td>\n",
       "      <td>Vancouver</td>\n",
       "      <td>Yes</td>\n",
       "      <td>Biotechnology</td>\n",
       "      <td>Cleantech / Semiconductors</td>\n",
       "    </tr>\n",
       "    <tr>\n",
       "      <th>2</th>\n",
       "      <td>/ORGANIZATION/0XDATA</td>\n",
       "      <td>/funding-round/3bb2ee4a2d89251a10aaa735b1180e44</td>\n",
       "      <td>venture</td>\n",
       "      <td>09-11-2015</td>\n",
       "      <td>20000000.0</td>\n",
       "      <td>/ORGANIZATION/0XDATA</td>\n",
       "      <td>H2O.ai</td>\n",
       "      <td>http://h2o.ai/</td>\n",
       "      <td>Analytics</td>\n",
       "      <td>operating</td>\n",
       "      <td>USA</td>\n",
       "      <td>CA</td>\n",
       "      <td>SF Bay Area</td>\n",
       "      <td>Mountain View</td>\n",
       "      <td>Yes</td>\n",
       "      <td>Analytics</td>\n",
       "      <td>Social, Finance, Analytics, Advertising</td>\n",
       "    </tr>\n",
       "    <tr>\n",
       "      <th>3</th>\n",
       "      <td>/ORGANIZATION/0XDATA</td>\n",
       "      <td>/funding-round/ae2a174c06517c2394aed45006322a7e</td>\n",
       "      <td>venture</td>\n",
       "      <td>03-01-2013</td>\n",
       "      <td>1700000.0</td>\n",
       "      <td>/ORGANIZATION/0XDATA</td>\n",
       "      <td>H2O.ai</td>\n",
       "      <td>http://h2o.ai/</td>\n",
       "      <td>Analytics</td>\n",
       "      <td>operating</td>\n",
       "      <td>USA</td>\n",
       "      <td>CA</td>\n",
       "      <td>SF Bay Area</td>\n",
       "      <td>Mountain View</td>\n",
       "      <td>Yes</td>\n",
       "      <td>Analytics</td>\n",
       "      <td>Social, Finance, Analytics, Advertising</td>\n",
       "    </tr>\n",
       "    <tr>\n",
       "      <th>4</th>\n",
       "      <td>/ORGANIZATION/0XDATA</td>\n",
       "      <td>/funding-round/e1cfcbe1bdf4c70277c5f29a3482f24e</td>\n",
       "      <td>venture</td>\n",
       "      <td>19-07-2014</td>\n",
       "      <td>8900000.0</td>\n",
       "      <td>/ORGANIZATION/0XDATA</td>\n",
       "      <td>H2O.ai</td>\n",
       "      <td>http://h2o.ai/</td>\n",
       "      <td>Analytics</td>\n",
       "      <td>operating</td>\n",
       "      <td>USA</td>\n",
       "      <td>CA</td>\n",
       "      <td>SF Bay Area</td>\n",
       "      <td>Mountain View</td>\n",
       "      <td>Yes</td>\n",
       "      <td>Analytics</td>\n",
       "      <td>Social, Finance, Analytics, Advertising</td>\n",
       "    </tr>\n",
       "  </tbody>\n",
       "</table>\n",
       "</div>"
      ],
      "text/plain": [
       "                     company_permalink  \\\n",
       "0                  /ORGANIZATION/-FAME   \n",
       "1  /ORGANIZATION/0NDINE-BIOMEDICAL-INC   \n",
       "2                 /ORGANIZATION/0XDATA   \n",
       "3                 /ORGANIZATION/0XDATA   \n",
       "4                 /ORGANIZATION/0XDATA   \n",
       "\n",
       "                           funding_round_permalink funding_round_type  \\\n",
       "0  /funding-round/9a01d05418af9f794eebff7ace91f638            venture   \n",
       "1  /funding-round/954b9499724b946ad8c396a57a5f3b72            venture   \n",
       "2  /funding-round/3bb2ee4a2d89251a10aaa735b1180e44            venture   \n",
       "3  /funding-round/ae2a174c06517c2394aed45006322a7e            venture   \n",
       "4  /funding-round/e1cfcbe1bdf4c70277c5f29a3482f24e            venture   \n",
       "\n",
       "    funded_at  raised_amount_usd                            permalink  \\\n",
       "0  05-01-2015         10000000.0                  /ORGANIZATION/-FAME   \n",
       "1  21-12-2009           719491.0  /ORGANIZATION/0NDINE-BIOMEDICAL-INC   \n",
       "2  09-11-2015         20000000.0                 /ORGANIZATION/0XDATA   \n",
       "3  03-01-2013          1700000.0                 /ORGANIZATION/0XDATA   \n",
       "4  19-07-2014          8900000.0                 /ORGANIZATION/0XDATA   \n",
       "\n",
       "                     name          homepage_url  category_list     status  \\\n",
       "0                   #fame    http://livfame.com          Media  operating   \n",
       "1  Ondine Biomedical Inc.  http://ondinebio.com  Biotechnology  operating   \n",
       "2                  H2O.ai        http://h2o.ai/      Analytics  operating   \n",
       "3                  H2O.ai        http://h2o.ai/      Analytics  operating   \n",
       "4                  H2O.ai        http://h2o.ai/      Analytics  operating   \n",
       "\n",
       "  country_code state_code       region           city english_official  \\\n",
       "0          IND         16       Mumbai         Mumbai              Yes   \n",
       "1          CAN         BC    Vancouver      Vancouver              Yes   \n",
       "2          USA         CA  SF Bay Area  Mountain View              Yes   \n",
       "3          USA         CA  SF Bay Area  Mountain View              Yes   \n",
       "4          USA         CA  SF Bay Area  Mountain View              Yes   \n",
       "\n",
       "  primary_sector                              main_sector  \n",
       "0          Media                            Entertainment  \n",
       "1  Biotechnology               Cleantech / Semiconductors  \n",
       "2      Analytics  Social, Finance, Analytics, Advertising  \n",
       "3      Analytics  Social, Finance, Analytics, Advertising  \n",
       "4      Analytics  Social, Finance, Analytics, Advertising  "
      ]
     },
     "execution_count": 54,
     "metadata": {},
     "output_type": "execute_result"
    }
   ],
   "source": [
    "top_english_speaking.head()"
   ]
  },
  {
   "cell_type": "code",
   "execution_count": 55,
   "metadata": {},
   "outputs": [],
   "source": [
    "#Creating 3 Dataframes for top3 countries\n",
    "D1 = top_english_speaking[top_english_speaking['country_code'] == 'USA']\n",
    "D2 = top_english_speaking[top_english_speaking['country_code'] == 'GBR']\n",
    "D3 = top_english_speaking[top_english_speaking['country_code'] == 'IND']"
   ]
  },
  {
   "cell_type": "code",
   "execution_count": 56,
   "metadata": {},
   "outputs": [
    {
     "name": "stderr",
     "output_type": "stream",
     "text": [
      "C:\\Users\\epanjee\\AppData\\Local\\Continuum\\anaconda3\\lib\\site-packages\\ipykernel_launcher.py:2: SettingWithCopyWarning: \n",
      "A value is trying to be set on a copy of a slice from a DataFrame.\n",
      "Try using .loc[row_indexer,col_indexer] = value instead\n",
      "\n",
      "See the caveats in the documentation: http://pandas.pydata.org/pandas-docs/stable/indexing.html#indexing-view-versus-copy\n",
      "  \n",
      "C:\\Users\\epanjee\\AppData\\Local\\Continuum\\anaconda3\\lib\\site-packages\\ipykernel_launcher.py:3: SettingWithCopyWarning: \n",
      "A value is trying to be set on a copy of a slice from a DataFrame.\n",
      "Try using .loc[row_indexer,col_indexer] = value instead\n",
      "\n",
      "See the caveats in the documentation: http://pandas.pydata.org/pandas-docs/stable/indexing.html#indexing-view-versus-copy\n",
      "  This is separate from the ipykernel package so we can avoid doing imports until\n",
      "C:\\Users\\epanjee\\AppData\\Local\\Continuum\\anaconda3\\lib\\site-packages\\ipykernel_launcher.py:4: SettingWithCopyWarning: \n",
      "A value is trying to be set on a copy of a slice from a DataFrame.\n",
      "Try using .loc[row_indexer,col_indexer] = value instead\n",
      "\n",
      "See the caveats in the documentation: http://pandas.pydata.org/pandas-docs/stable/indexing.html#indexing-view-versus-copy\n",
      "  after removing the cwd from sys.path.\n"
     ]
    }
   ],
   "source": [
    "#Adding new columns to each Dataframes for storing count of investments for each main sector in a separate column\n",
    "D1['investment_count_by_main_sector'] = D1.groupby('main_sector')['main_sector'].transform('count')\n",
    "D2['investment_count_by_main_sector'] = D2.groupby('main_sector')['main_sector'].transform('count')\n",
    "D3['investment_count_by_main_sector'] = D3.groupby('main_sector')['main_sector'].transform('count')"
   ]
  },
  {
   "cell_type": "code",
   "execution_count": 57,
   "metadata": {},
   "outputs": [
    {
     "name": "stderr",
     "output_type": "stream",
     "text": [
      "C:\\Users\\epanjee\\AppData\\Local\\Continuum\\anaconda3\\lib\\site-packages\\ipykernel_launcher.py:2: SettingWithCopyWarning: \n",
      "A value is trying to be set on a copy of a slice from a DataFrame.\n",
      "Try using .loc[row_indexer,col_indexer] = value instead\n",
      "\n",
      "See the caveats in the documentation: http://pandas.pydata.org/pandas-docs/stable/indexing.html#indexing-view-versus-copy\n",
      "  \n",
      "C:\\Users\\epanjee\\AppData\\Local\\Continuum\\anaconda3\\lib\\site-packages\\ipykernel_launcher.py:3: SettingWithCopyWarning: \n",
      "A value is trying to be set on a copy of a slice from a DataFrame.\n",
      "Try using .loc[row_indexer,col_indexer] = value instead\n",
      "\n",
      "See the caveats in the documentation: http://pandas.pydata.org/pandas-docs/stable/indexing.html#indexing-view-versus-copy\n",
      "  This is separate from the ipykernel package so we can avoid doing imports until\n",
      "C:\\Users\\epanjee\\AppData\\Local\\Continuum\\anaconda3\\lib\\site-packages\\ipykernel_launcher.py:4: SettingWithCopyWarning: \n",
      "A value is trying to be set on a copy of a slice from a DataFrame.\n",
      "Try using .loc[row_indexer,col_indexer] = value instead\n",
      "\n",
      "See the caveats in the documentation: http://pandas.pydata.org/pandas-docs/stable/indexing.html#indexing-view-versus-copy\n",
      "  after removing the cwd from sys.path.\n"
     ]
    }
   ],
   "source": [
    "#Adding new columns to each Dataframes for storing sum of investments for each main sector in a separate column\n",
    "D1['amount_by_main_sector'] = D1.groupby('main_sector')['raised_amount_usd'].transform('sum')\n",
    "D2['amount_by_main_sector'] = D2.groupby('main_sector')['raised_amount_usd'].transform('sum')\n",
    "D3['amount_by_main_sector'] = D3.groupby('main_sector')['raised_amount_usd'].transform('sum')"
   ]
  },
  {
   "cell_type": "code",
   "execution_count": 78,
   "metadata": {},
   "outputs": [
    {
     "data": {
      "text/html": [
       "<div>\n",
       "<style scoped>\n",
       "    .dataframe tbody tr th:only-of-type {\n",
       "        vertical-align: middle;\n",
       "    }\n",
       "\n",
       "    .dataframe tbody tr th {\n",
       "        vertical-align: top;\n",
       "    }\n",
       "\n",
       "    .dataframe thead th {\n",
       "        text-align: right;\n",
       "    }\n",
       "</style>\n",
       "<table border=\"1\" class=\"dataframe\">\n",
       "  <thead>\n",
       "    <tr style=\"text-align: right;\">\n",
       "      <th></th>\n",
       "      <th>company_permalink</th>\n",
       "      <th>funding_round_permalink</th>\n",
       "      <th>funding_round_type</th>\n",
       "      <th>funded_at</th>\n",
       "      <th>raised_amount_usd</th>\n",
       "      <th>permalink</th>\n",
       "      <th>name</th>\n",
       "      <th>homepage_url</th>\n",
       "      <th>category_list</th>\n",
       "      <th>status</th>\n",
       "      <th>country_code</th>\n",
       "      <th>state_code</th>\n",
       "      <th>region</th>\n",
       "      <th>city</th>\n",
       "      <th>english_official</th>\n",
       "      <th>primary_sector</th>\n",
       "      <th>main_sector</th>\n",
       "      <th>investment_count_by_main_sector</th>\n",
       "      <th>amount_by_main_sector</th>\n",
       "    </tr>\n",
       "  </thead>\n",
       "  <tbody>\n",
       "    <tr>\n",
       "      <th>6</th>\n",
       "      <td>/ORGANIZATION/10-MINUTES-WITH</td>\n",
       "      <td>/funding-round/0faccbbcc5818dc5326469f13f5a8ac8</td>\n",
       "      <td>venture</td>\n",
       "      <td>09-10-2014</td>\n",
       "      <td>4000000.0</td>\n",
       "      <td>/ORGANIZATION/10-MINUTES-WITH</td>\n",
       "      <td>10 Minutes With</td>\n",
       "      <td>http://10minuteswith.com</td>\n",
       "      <td>Education</td>\n",
       "      <td>operating</td>\n",
       "      <td>GBR</td>\n",
       "      <td>H9</td>\n",
       "      <td>London</td>\n",
       "      <td>London</td>\n",
       "      <td>Yes</td>\n",
       "      <td>Education</td>\n",
       "      <td>Others</td>\n",
       "      <td>516</td>\n",
       "      <td>4.492220e+09</td>\n",
       "    </tr>\n",
       "    <tr>\n",
       "      <th>100</th>\n",
       "      <td>/ORGANIZATION/31DOVER</td>\n",
       "      <td>/funding-round/b95cb5a74632e596e19a845e405ef14b</td>\n",
       "      <td>venture</td>\n",
       "      <td>01-03-2014</td>\n",
       "      <td>2274716.0</td>\n",
       "      <td>/ORGANIZATION/31DOVER</td>\n",
       "      <td>31Dover</td>\n",
       "      <td>http://www.31dover.com</td>\n",
       "      <td>E-Commerce|Wine And Spirits</td>\n",
       "      <td>operating</td>\n",
       "      <td>GBR</td>\n",
       "      <td>H9</td>\n",
       "      <td>London</td>\n",
       "      <td>London</td>\n",
       "      <td>Yes</td>\n",
       "      <td>E-Commerce</td>\n",
       "      <td>Others</td>\n",
       "      <td>516</td>\n",
       "      <td>4.492220e+09</td>\n",
       "    </tr>\n",
       "    <tr>\n",
       "      <th>112</th>\n",
       "      <td>/ORGANIZATION/365SCORES</td>\n",
       "      <td>/funding-round/48212f931f542fdef78810bc87aef086</td>\n",
       "      <td>venture</td>\n",
       "      <td>29-09-2014</td>\n",
       "      <td>5500000.0</td>\n",
       "      <td>/ORGANIZATION/365SCORES</td>\n",
       "      <td>365Scores</td>\n",
       "      <td>http://biz.365scores.com</td>\n",
       "      <td>Android|Apps|iPhone|Mobile|Sports</td>\n",
       "      <td>operating</td>\n",
       "      <td>GBR</td>\n",
       "      <td>H9</td>\n",
       "      <td>London</td>\n",
       "      <td>London</td>\n",
       "      <td>Yes</td>\n",
       "      <td>Android</td>\n",
       "      <td>Social, Finance, Analytics, Advertising</td>\n",
       "      <td>421</td>\n",
       "      <td>3.773329e+09</td>\n",
       "    </tr>\n",
       "    <tr>\n",
       "      <th>113</th>\n",
       "      <td>/ORGANIZATION/365SCORES</td>\n",
       "      <td>/funding-round/493f78ea0ca33cfac48a57b2351b154b</td>\n",
       "      <td>venture</td>\n",
       "      <td>28-01-2013</td>\n",
       "      <td>1200000.0</td>\n",
       "      <td>/ORGANIZATION/365SCORES</td>\n",
       "      <td>365Scores</td>\n",
       "      <td>http://biz.365scores.com</td>\n",
       "      <td>Android|Apps|iPhone|Mobile|Sports</td>\n",
       "      <td>operating</td>\n",
       "      <td>GBR</td>\n",
       "      <td>H9</td>\n",
       "      <td>London</td>\n",
       "      <td>London</td>\n",
       "      <td>Yes</td>\n",
       "      <td>Android</td>\n",
       "      <td>Social, Finance, Analytics, Advertising</td>\n",
       "      <td>421</td>\n",
       "      <td>3.773329e+09</td>\n",
       "    </tr>\n",
       "    <tr>\n",
       "      <th>161</th>\n",
       "      <td>/ORGANIZATION/3SUN</td>\n",
       "      <td>/funding-round/f1d8c6491b45bcf2a35ef1cf5cae96c4</td>\n",
       "      <td>venture</td>\n",
       "      <td>03-03-2014</td>\n",
       "      <td>15152514.0</td>\n",
       "      <td>/ORGANIZATION/3SUN</td>\n",
       "      <td>3sun</td>\n",
       "      <td>http://3sungroup.com</td>\n",
       "      <td>Clean Technology</td>\n",
       "      <td>operating</td>\n",
       "      <td>GBR</td>\n",
       "      <td>I9</td>\n",
       "      <td>Not Available</td>\n",
       "      <td>Not Available</td>\n",
       "      <td>Yes</td>\n",
       "      <td>Clean Technology</td>\n",
       "      <td>Cleantech / Semiconductors</td>\n",
       "      <td>455</td>\n",
       "      <td>5.235449e+09</td>\n",
       "    </tr>\n",
       "  </tbody>\n",
       "</table>\n",
       "</div>"
      ],
      "text/plain": [
       "                 company_permalink  \\\n",
       "6    /ORGANIZATION/10-MINUTES-WITH   \n",
       "100          /ORGANIZATION/31DOVER   \n",
       "112        /ORGANIZATION/365SCORES   \n",
       "113        /ORGANIZATION/365SCORES   \n",
       "161             /ORGANIZATION/3SUN   \n",
       "\n",
       "                             funding_round_permalink funding_round_type  \\\n",
       "6    /funding-round/0faccbbcc5818dc5326469f13f5a8ac8            venture   \n",
       "100  /funding-round/b95cb5a74632e596e19a845e405ef14b            venture   \n",
       "112  /funding-round/48212f931f542fdef78810bc87aef086            venture   \n",
       "113  /funding-round/493f78ea0ca33cfac48a57b2351b154b            venture   \n",
       "161  /funding-round/f1d8c6491b45bcf2a35ef1cf5cae96c4            venture   \n",
       "\n",
       "      funded_at  raised_amount_usd                      permalink  \\\n",
       "6    09-10-2014          4000000.0  /ORGANIZATION/10-MINUTES-WITH   \n",
       "100  01-03-2014          2274716.0          /ORGANIZATION/31DOVER   \n",
       "112  29-09-2014          5500000.0        /ORGANIZATION/365SCORES   \n",
       "113  28-01-2013          1200000.0        /ORGANIZATION/365SCORES   \n",
       "161  03-03-2014         15152514.0             /ORGANIZATION/3SUN   \n",
       "\n",
       "                name              homepage_url  \\\n",
       "6    10 Minutes With  http://10minuteswith.com   \n",
       "100          31Dover    http://www.31dover.com   \n",
       "112        365Scores  http://biz.365scores.com   \n",
       "113        365Scores  http://biz.365scores.com   \n",
       "161             3sun      http://3sungroup.com   \n",
       "\n",
       "                         category_list     status country_code state_code  \\\n",
       "6                            Education  operating          GBR         H9   \n",
       "100        E-Commerce|Wine And Spirits  operating          GBR         H9   \n",
       "112  Android|Apps|iPhone|Mobile|Sports  operating          GBR         H9   \n",
       "113  Android|Apps|iPhone|Mobile|Sports  operating          GBR         H9   \n",
       "161                   Clean Technology  operating          GBR         I9   \n",
       "\n",
       "            region           city english_official    primary_sector  \\\n",
       "6           London         London              Yes         Education   \n",
       "100         London         London              Yes        E-Commerce   \n",
       "112         London         London              Yes           Android   \n",
       "113         London         London              Yes           Android   \n",
       "161  Not Available  Not Available              Yes  Clean Technology   \n",
       "\n",
       "                                 main_sector  investment_count_by_main_sector  \\\n",
       "6                                     Others                              516   \n",
       "100                                   Others                              516   \n",
       "112  Social, Finance, Analytics, Advertising                              421   \n",
       "113  Social, Finance, Analytics, Advertising                              421   \n",
       "161               Cleantech / Semiconductors                              455   \n",
       "\n",
       "     amount_by_main_sector  \n",
       "6             4.492220e+09  \n",
       "100           4.492220e+09  \n",
       "112           3.773329e+09  \n",
       "113           3.773329e+09  \n",
       "161           5.235449e+09  "
      ]
     },
     "execution_count": 78,
     "metadata": {},
     "output_type": "execute_result"
    }
   ],
   "source": [
    "D2.head()"
   ]
  },
  {
   "cell_type": "code",
   "execution_count": 80,
   "metadata": {},
   "outputs": [
    {
     "data": {
      "text/html": [
       "<div>\n",
       "<style scoped>\n",
       "    .dataframe tbody tr th:only-of-type {\n",
       "        vertical-align: middle;\n",
       "    }\n",
       "\n",
       "    .dataframe tbody tr th {\n",
       "        vertical-align: top;\n",
       "    }\n",
       "\n",
       "    .dataframe thead th {\n",
       "        text-align: right;\n",
       "    }\n",
       "</style>\n",
       "<table border=\"1\" class=\"dataframe\">\n",
       "  <thead>\n",
       "    <tr style=\"text-align: right;\">\n",
       "      <th></th>\n",
       "      <th>company_permalink</th>\n",
       "      <th>funding_round_permalink</th>\n",
       "      <th>funding_round_type</th>\n",
       "      <th>funded_at</th>\n",
       "      <th>raised_amount_usd</th>\n",
       "      <th>permalink</th>\n",
       "      <th>name</th>\n",
       "      <th>homepage_url</th>\n",
       "      <th>category_list</th>\n",
       "      <th>status</th>\n",
       "      <th>country_code</th>\n",
       "      <th>state_code</th>\n",
       "      <th>region</th>\n",
       "      <th>city</th>\n",
       "      <th>english_official</th>\n",
       "      <th>primary_sector</th>\n",
       "      <th>main_sector</th>\n",
       "      <th>investment_count_by_main_sector</th>\n",
       "      <th>amount_by_main_sector</th>\n",
       "    </tr>\n",
       "  </thead>\n",
       "  <tbody>\n",
       "    <tr>\n",
       "      <th>2</th>\n",
       "      <td>/ORGANIZATION/0XDATA</td>\n",
       "      <td>/funding-round/3bb2ee4a2d89251a10aaa735b1180e44</td>\n",
       "      <td>venture</td>\n",
       "      <td>09-11-2015</td>\n",
       "      <td>20000000.0</td>\n",
       "      <td>/ORGANIZATION/0XDATA</td>\n",
       "      <td>H2O.ai</td>\n",
       "      <td>http://h2o.ai/</td>\n",
       "      <td>Analytics</td>\n",
       "      <td>operating</td>\n",
       "      <td>USA</td>\n",
       "      <td>CA</td>\n",
       "      <td>SF Bay Area</td>\n",
       "      <td>Mountain View</td>\n",
       "      <td>Yes</td>\n",
       "      <td>Analytics</td>\n",
       "      <td>Social, Finance, Analytics, Advertising</td>\n",
       "      <td>7247</td>\n",
       "      <td>8.652540e+10</td>\n",
       "    </tr>\n",
       "    <tr>\n",
       "      <th>3</th>\n",
       "      <td>/ORGANIZATION/0XDATA</td>\n",
       "      <td>/funding-round/ae2a174c06517c2394aed45006322a7e</td>\n",
       "      <td>venture</td>\n",
       "      <td>03-01-2013</td>\n",
       "      <td>1700000.0</td>\n",
       "      <td>/ORGANIZATION/0XDATA</td>\n",
       "      <td>H2O.ai</td>\n",
       "      <td>http://h2o.ai/</td>\n",
       "      <td>Analytics</td>\n",
       "      <td>operating</td>\n",
       "      <td>USA</td>\n",
       "      <td>CA</td>\n",
       "      <td>SF Bay Area</td>\n",
       "      <td>Mountain View</td>\n",
       "      <td>Yes</td>\n",
       "      <td>Analytics</td>\n",
       "      <td>Social, Finance, Analytics, Advertising</td>\n",
       "      <td>7247</td>\n",
       "      <td>8.652540e+10</td>\n",
       "    </tr>\n",
       "    <tr>\n",
       "      <th>4</th>\n",
       "      <td>/ORGANIZATION/0XDATA</td>\n",
       "      <td>/funding-round/e1cfcbe1bdf4c70277c5f29a3482f24e</td>\n",
       "      <td>venture</td>\n",
       "      <td>19-07-2014</td>\n",
       "      <td>8900000.0</td>\n",
       "      <td>/ORGANIZATION/0XDATA</td>\n",
       "      <td>H2O.ai</td>\n",
       "      <td>http://h2o.ai/</td>\n",
       "      <td>Analytics</td>\n",
       "      <td>operating</td>\n",
       "      <td>USA</td>\n",
       "      <td>CA</td>\n",
       "      <td>SF Bay Area</td>\n",
       "      <td>Mountain View</td>\n",
       "      <td>Yes</td>\n",
       "      <td>Analytics</td>\n",
       "      <td>Social, Finance, Analytics, Advertising</td>\n",
       "      <td>7247</td>\n",
       "      <td>8.652540e+10</td>\n",
       "    </tr>\n",
       "    <tr>\n",
       "      <th>5</th>\n",
       "      <td>/ORGANIZATION/1-MAINSTREAM</td>\n",
       "      <td>/funding-round/b952cbaf401f310927430c97b68162ea</td>\n",
       "      <td>venture</td>\n",
       "      <td>17-03-2015</td>\n",
       "      <td>5000000.0</td>\n",
       "      <td>/ORGANIZATION/1-MAINSTREAM</td>\n",
       "      <td>1 Mainstream</td>\n",
       "      <td>http://www.1mainstream.com</td>\n",
       "      <td>Apps|Cable|Distribution|Software</td>\n",
       "      <td>acquired</td>\n",
       "      <td>USA</td>\n",
       "      <td>CA</td>\n",
       "      <td>SF Bay Area</td>\n",
       "      <td>Cupertino</td>\n",
       "      <td>Yes</td>\n",
       "      <td>Apps</td>\n",
       "      <td>News, Search and Messaging</td>\n",
       "      <td>4356</td>\n",
       "      <td>4.560052e+10</td>\n",
       "    </tr>\n",
       "    <tr>\n",
       "      <th>7</th>\n",
       "      <td>/ORGANIZATION/1000MEMORIES</td>\n",
       "      <td>/funding-round/502bd0e50c27616995e4bdad24605ef8</td>\n",
       "      <td>venture</td>\n",
       "      <td>16-02-2011</td>\n",
       "      <td>2520000.0</td>\n",
       "      <td>/ORGANIZATION/1000MEMORIES</td>\n",
       "      <td>1000memories</td>\n",
       "      <td>http://1000memories.com</td>\n",
       "      <td>Curated Web</td>\n",
       "      <td>acquired</td>\n",
       "      <td>USA</td>\n",
       "      <td>CA</td>\n",
       "      <td>SF Bay Area</td>\n",
       "      <td>San Francisco</td>\n",
       "      <td>Yes</td>\n",
       "      <td>Curated Web</td>\n",
       "      <td>News, Search and Messaging</td>\n",
       "      <td>4356</td>\n",
       "      <td>4.560052e+10</td>\n",
       "    </tr>\n",
       "  </tbody>\n",
       "</table>\n",
       "</div>"
      ],
      "text/plain": [
       "            company_permalink  \\\n",
       "2        /ORGANIZATION/0XDATA   \n",
       "3        /ORGANIZATION/0XDATA   \n",
       "4        /ORGANIZATION/0XDATA   \n",
       "5  /ORGANIZATION/1-MAINSTREAM   \n",
       "7  /ORGANIZATION/1000MEMORIES   \n",
       "\n",
       "                           funding_round_permalink funding_round_type  \\\n",
       "2  /funding-round/3bb2ee4a2d89251a10aaa735b1180e44            venture   \n",
       "3  /funding-round/ae2a174c06517c2394aed45006322a7e            venture   \n",
       "4  /funding-round/e1cfcbe1bdf4c70277c5f29a3482f24e            venture   \n",
       "5  /funding-round/b952cbaf401f310927430c97b68162ea            venture   \n",
       "7  /funding-round/502bd0e50c27616995e4bdad24605ef8            venture   \n",
       "\n",
       "    funded_at  raised_amount_usd                   permalink          name  \\\n",
       "2  09-11-2015         20000000.0        /ORGANIZATION/0XDATA        H2O.ai   \n",
       "3  03-01-2013          1700000.0        /ORGANIZATION/0XDATA        H2O.ai   \n",
       "4  19-07-2014          8900000.0        /ORGANIZATION/0XDATA        H2O.ai   \n",
       "5  17-03-2015          5000000.0  /ORGANIZATION/1-MAINSTREAM  1 Mainstream   \n",
       "7  16-02-2011          2520000.0  /ORGANIZATION/1000MEMORIES  1000memories   \n",
       "\n",
       "                 homepage_url                     category_list     status  \\\n",
       "2              http://h2o.ai/                         Analytics  operating   \n",
       "3              http://h2o.ai/                         Analytics  operating   \n",
       "4              http://h2o.ai/                         Analytics  operating   \n",
       "5  http://www.1mainstream.com  Apps|Cable|Distribution|Software   acquired   \n",
       "7     http://1000memories.com                       Curated Web   acquired   \n",
       "\n",
       "  country_code state_code       region           city english_official  \\\n",
       "2          USA         CA  SF Bay Area  Mountain View              Yes   \n",
       "3          USA         CA  SF Bay Area  Mountain View              Yes   \n",
       "4          USA         CA  SF Bay Area  Mountain View              Yes   \n",
       "5          USA         CA  SF Bay Area      Cupertino              Yes   \n",
       "7          USA         CA  SF Bay Area  San Francisco              Yes   \n",
       "\n",
       "  primary_sector                              main_sector  \\\n",
       "2      Analytics  Social, Finance, Analytics, Advertising   \n",
       "3      Analytics  Social, Finance, Analytics, Advertising   \n",
       "4      Analytics  Social, Finance, Analytics, Advertising   \n",
       "5           Apps               News, Search and Messaging   \n",
       "7    Curated Web               News, Search and Messaging   \n",
       "\n",
       "   investment_count_by_main_sector  amount_by_main_sector  \n",
       "2                             7247           8.652540e+10  \n",
       "3                             7247           8.652540e+10  \n",
       "4                             7247           8.652540e+10  \n",
       "5                             4356           4.560052e+10  \n",
       "7                             4356           4.560052e+10  "
      ]
     },
     "execution_count": 80,
     "metadata": {},
     "output_type": "execute_result"
    }
   ],
   "source": [
    "top3 = pd.concat([D1, D2, D3]) \n",
    "top3.head()"
   ]
  },
  {
   "cell_type": "code",
   "execution_count": 58,
   "metadata": {},
   "outputs": [
    {
     "name": "stdout",
     "output_type": "stream",
     "text": [
      "Investment Count in Country ['USA']\n",
      "36139\n",
      "Investment Count in Country ['GBR']\n",
      "2054\n",
      "Investment Count in Country ['IND']\n",
      "824\n"
     ]
    }
   ],
   "source": [
    "#Total number of investments (count) per country\n",
    "for df in (D1,D2,D3):\n",
    "    print(\"Investment Count in Country\",df.country_code.unique())\n",
    "    print(df.investment_count_by_main_sector.unique().sum())\n"
   ]
  },
  {
   "cell_type": "code",
   "execution_count": 59,
   "metadata": {},
   "outputs": [
    {
     "name": "stdout",
     "output_type": "stream",
     "text": [
      "Investment amount in Country ['USA']\n",
      "422510842796.0\n",
      "Investment amount in Country ['GBR']\n",
      "20234971737.0\n",
      "Investment amount in Country ['IND']\n",
      "14391858718.0\n"
     ]
    }
   ],
   "source": [
    "#Total number of investments (amount) per country\n",
    "for df in (D1,D2,D3):\n",
    "    print(\"Investment amount in Country\",df.country_code.unique())\n",
    "    print(df.amount_by_main_sector.unique().sum())\n"
   ]
  },
  {
   "cell_type": "code",
   "execution_count": 60,
   "metadata": {},
   "outputs": [
    {
     "name": "stdout",
     "output_type": "stream",
     "text": [
      "Top Sectors in :USA\n",
      " [['Others' 8318]\n",
      " ['Cleantech / Semiconductors' 8195]\n",
      " ['Social, Finance, Analytics, Advertising' 7247]\n",
      " ['News, Search and Messaging' 4356]\n",
      " ['Health' 3269]\n",
      " ['Manufacturing' 2455]\n",
      " ['Entertainment' 1794]\n",
      " ['Automotive & Sports' 505]]\n",
      "Top Sectors in :GBR\n",
      " [['Others' 516]\n",
      " ['Cleantech / Semiconductors' 455]\n",
      " ['Social, Finance, Analytics, Advertising' 421]\n",
      " ['News, Search and Messaging' 241]\n",
      " ['Entertainment' 136]\n",
      " ['Manufacturing' 122]\n",
      " ['Health' 118]\n",
      " ['Automotive & Sports' 45]]\n",
      "Top Sectors in :IND\n",
      " [['Others' 284]\n",
      " ['Social, Finance, Analytics, Advertising' 147]\n",
      " ['News, Search and Messaging' 130]\n",
      " ['Entertainment' 76]\n",
      " ['Cleantech / Semiconductors' 59]\n",
      " ['Manufacturing' 55]\n",
      " ['Health' 42]\n",
      " ['Automotive & Sports' 31]]\n"
     ]
    }
   ],
   "source": [
    "d1=D1\n",
    "d2=D2\n",
    "d3=D3\n",
    "#finding Top 3 main sectors per Country (number of investment-wise)\n",
    "a1 = pd.unique(d1[['main_sector','investment_count_by_main_sector']].values.ravel()).reshape(8,2)\n",
    "a2 = pd.unique(d2[['main_sector','investment_count_by_main_sector']].values.ravel()).reshape(8,2)\n",
    "a3 = pd.unique(d3[['main_sector','investment_count_by_main_sector']].values.ravel()).reshape(8,2)\n",
    "\n",
    "print(\"Top Sectors in :USA\\n\",a1[np.argsort(-a1[:, 1])])\n",
    "print(\"Top Sectors in :GBR\\n\",a2[np.argsort(-a2[:, 1])])\n",
    "print(\"Top Sectors in :IND\\n\",a3[np.argsort(-a3[:, 1])])\n"
   ]
  },
  {
   "cell_type": "code",
   "execution_count": 61,
   "metadata": {},
   "outputs": [
    {
     "name": "stdout",
     "output_type": "stream",
     "text": [
      "Top Company in Top Sector in USA\n",
      " name\n",
      "SoFi    1.365200e+09\n",
      "Name: raised_amount_usd, dtype: float64\n",
      "Top Company in Top Sector in GBR\n",
      " name\n",
      "OneWeb    500000000.0\n",
      "Name: raised_amount_usd, dtype: float64\n",
      "Top Company in Top Sector in IND\n",
      " name\n",
      "Flipkart    2.451000e+09\n",
      "Name: raised_amount_usd, dtype: float64\n"
     ]
    }
   ],
   "source": [
    "#Company received the hightest investment in Top main_sector\n",
    "D11 = D1[D1['main_sector']=='Others']\n",
    "print(\"Top Company in Top Sector in USA\\n\",D11.groupby('name').raised_amount_usd.sum().sort_values(ascending=False).head(1))\n",
    "D21 = D2[D2['main_sector']=='Others' ]\n",
    "print(\"Top Company in Top Sector in GBR\\n\",D21.groupby('name').raised_amount_usd.sum().sort_values(ascending=False).head(1))\n",
    "D31 = D3[D3['main_sector']=='Others' ]\n",
    "print(\"Top Company in Top Sector in IND\\n\",D31.groupby('name').raised_amount_usd.sum().sort_values(ascending=False).head(1))\n"
   ]
  },
  {
   "cell_type": "code",
   "execution_count": 62,
   "metadata": {},
   "outputs": [
    {
     "name": "stdout",
     "output_type": "stream",
     "text": [
      "Top Company in Second Top Sector in USA\n",
      " name\n",
      "Freescale Semiconductor    1.760000e+10\n",
      "Name: raised_amount_usd, dtype: float64\n",
      "Top Company in Second Top Sector in GBR\n",
      " name\n",
      "Immunocore    320000000.0\n",
      "Name: raised_amount_usd, dtype: float64\n",
      "Top Company in Second Top Sector in IND\n",
      " name\n",
      "Quikr    346000000.0\n",
      "Name: raised_amount_usd, dtype: float64\n"
     ]
    }
   ],
   "source": [
    "#Company received the hightest investment in second best main_sector\n",
    "D12 = D1[D1['main_sector']=='Cleantech / Semiconductors']\n",
    "print(\"Top Company in Second Top Sector in USA\\n\",D12.groupby('name').raised_amount_usd.sum().sort_values(ascending=False).head(1))\n",
    "D22 = D2[D2['main_sector']=='Cleantech / Semiconductors' ]\n",
    "print(\"Top Company in Second Top Sector in GBR\\n\",D22.groupby('name').raised_amount_usd.sum().sort_values(ascending=False).head(1))\n",
    "D32 = D3[D3['main_sector']=='News, Search and Messaging' ]\n",
    "print(\"Top Company in Second Top Sector in IND\\n\",D32.groupby('name').raised_amount_usd.sum().sort_values(ascending=False).head(1))\n"
   ]
  },
  {
   "cell_type": "code",
   "execution_count": 63,
   "metadata": {},
   "outputs": [],
   "source": [
    "#For plotting graph data\n",
    "import matplotlib.pyplot as plt\n",
    "import seaborn as sns\n",
    "sns.set_style(\"whitegrid\")"
   ]
  },
  {
   "cell_type": "code",
   "execution_count": 64,
   "metadata": {},
   "outputs": [
    {
     "data": {
      "text/plain": [
       "<matplotlib.axes._subplots.AxesSubplot at 0x21c2a99fba8>"
      ]
     },
     "execution_count": 64,
     "metadata": {},
     "output_type": "execute_result"
    },
    {
     "data": {
      "image/png": "[encoded data removed]",
      "text/plain": [
       "<Figure size 432x288 with 1 Axes>"
      ]
     },
     "metadata": {
      "needs_background": "light"
     },
     "output_type": "display_data"
    }
   ],
   "source": [
    "#Plotting howing the fraction of total investments (globally) in angel, venture, seed, and private equity, \n",
    "table1.plot(kind='bar',title ='Fraction of Total Investment Globally (in Million USD) in each funding type',legend=True, rot=0)"
   ]
  },
  {
   "cell_type": "code",
   "execution_count": 65,
   "metadata": {},
   "outputs": [
    {
     "data": {
      "text/plain": [
       "<matplotlib.axes._subplots.AxesSubplot at 0x21c2a9d00f0>"
      ]
     },
     "execution_count": 65,
     "metadata": {},
     "output_type": "execute_result"
    },
    {
     "data": {
      "image/png": "[encoded data removed]",
      "text/plain": [
       "<Figure size 432x288 with 1 Axes>"
      ]
     },
     "metadata": {
      "needs_background": "light"
     },
     "output_type": "display_data"
    }
   ],
   "source": [
    "#and the average amount of investment in each funding type.\n",
    "table2.plot(kind='bar', title ='Average amount of investment(in Million USD) in each funding type',legend=True, rot=0)"
   ]
  },
  {
   "cell_type": "code",
   "execution_count": 66,
   "metadata": {},
   "outputs": [
    {
     "data": {
      "text/plain": [
       "<matplotlib.axes._subplots.AxesSubplot at 0x21c2aa2a748>"
      ]
     },
     "execution_count": 66,
     "metadata": {},
     "output_type": "execute_result"
    },
    {
     "data": {
      "image/png": "[encoded data removed]",
      "text/plain": [
       "<Figure size 432x288 with 1 Axes>"
      ]
     },
     "metadata": {
      "needs_background": "light"
     },
     "output_type": "display_data"
    }
   ],
   "source": [
    "#plot showing the top 9 countries against the total amount of investments of funding type FT\n",
    "\n",
    "top9_plt=top9.groupby(top9.country_code)['raised_amount_usd'].sum().sort_values(ascending=False).head(9)/1000000\n",
    "top9_plt.to_frame()\n",
    "top9_plt.plot(kind='bar', title ='Total amount of investment (in Million USD) of funding type-Venture in Top 9 Countries',legend=True, rot=0)"
   ]
  },
  {
   "cell_type": "code",
   "execution_count": 83,
   "metadata": {},
   "outputs": [
    {
     "data": {
      "image/png": "[encoded data removed]",
      "text/plain": [
       "<Figure size 960x640 with 1 Axes>"
      ]
     },
     "metadata": {},
     "output_type": "display_data"
    }
   ],
   "source": [
    "#Plotting Top 3 countries all sectors\n",
    "plt.figure(num=None, figsize=(12, 8), dpi=80, facecolor='w', edgecolor='k')\n",
    "\n",
    "sns.barplot(x='country_code', y='investment_count_by_main_sector', hue=\"main_sector\", data=top3)\n",
    "plt.show()"
   ]
  },
  {
   "cell_type": "code",
   "execution_count": 100,
   "metadata": {},
   "outputs": [],
   "source": [
    "top3 = pd.concat([D1[D1['main_sector'].isin(['Others','Cleantech / Semiconductors','Social, Finance, Analytics, Advertising'])],D2[D2.main_sector.isin(['Others','Cleantech / Semiconductors','Social, Finance, Analytics, Advertising'])],\n",
    "                D3[D3.main_sector.isin(['Others','Social, Finance, Analytics, Advertising','News, Search and Messaging'])]])\n",
    "\n"
   ]
  },
  {
   "cell_type": "code",
   "execution_count": 103,
   "metadata": {},
   "outputs": [
    {
     "data": {
      "image/png": "[encoded data removed]",
      "text/plain": [
       "<Figure size 960x640 with 1 Axes>"
      ]
     },
     "metadata": {},
     "output_type": "display_data"
    }
   ],
   "source": [
    "#Plotting Top 3 countries and their respective top 3 sectors\n",
    "plt.figure(num=None, figsize=(12, 8), dpi=80, facecolor='w', edgecolor='k')\n",
    "sns.barplot(x='country_code', y='investment_count_by_main_sector', hue=\"main_sector\", data=top3).set_title('Number of investments in the top 3 sectors of the top 3 countries')\n",
    "plt.show()"
   ]
  },
  {
   "cell_type": "code",
   "execution_count": null,
   "metadata": {},
   "outputs": [],
   "source": []
  }
 ],
 "metadata": {
  "kernelspec": {
   "display_name": "Python 3",
   "language": "python",
   "name": "python3"
  },
  "language_info": {
   "codemirror_mode": {
    "name": "ipython",
    "version": 3
   },
   "file_extension": ".py",
   "mimetype": "text/x-python",
   "name": "python",
   "nbconvert_exporter": "python",
   "pygments_lexer": "ipython3",
   "version": "3.7.3"
  }
 },
 "nbformat": 4,
 "nbformat_minor": 2
}
